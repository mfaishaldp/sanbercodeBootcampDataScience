{
 "cells": [
  {
   "cell_type": "code",
   "execution_count": 1,
   "metadata": {},
   "outputs": [],
   "source": [
    "import tweepy\n",
    "import re\n",
    "import pandas as pd\n",
    "import numpy as np\n",
    "import matplotlib.pyplot as plt\n",
    "\n",
    "consumer_key = \"E94DFtes8j5myDibhj4sfs0NA\"\n",
    "consumer_secret = \"f02atPbdvNHpaOyo5CzfKKDQidqY3JPdSDxTVEuL9Oi220RaZh\"\n",
    "access_token = \"358155084-9hyegtGt2qSXTw3OYa5vOdR27Zx9BECK40Z1QWay\"\n",
    "access_token_secret = \"qh8kdCttP4ciVAdYMU70NQmw9oFzapA6f5U3OCtgTg9W3\"\n",
    "\n",
    "auth = tweepy.OAuthHandler(consumer_key,consumer_secret)\n",
    "auth.set_access_token(access_token,access_token_secret)\n",
    "api = tweepy.API(auth)"
   ]
  },
  {
   "cell_type": "code",
   "execution_count": 2,
   "metadata": {},
   "outputs": [],
   "source": [
    "search_words = \"jouska\"\n",
    "date_since = \"2020-07-27\"\n",
    "new_search = search_words + \" -filter:retweets\"\n",
    "\n",
    "tweets = tweepy.Cursor(api.search,\n",
    "        q=new_search,\n",
    "        lang=\"id\",\n",
    "        since=date_since).items(1000)"
   ]
  },
  {
   "cell_type": "code",
   "execution_count": 3,
   "metadata": {},
   "outputs": [
    {
     "data": {
      "text/html": [
       "<div>\n",
       "<style scoped>\n",
       "    .dataframe tbody tr th:only-of-type {\n",
       "        vertical-align: middle;\n",
       "    }\n",
       "\n",
       "    .dataframe tbody tr th {\n",
       "        vertical-align: top;\n",
       "    }\n",
       "\n",
       "    .dataframe thead th {\n",
       "        text-align: right;\n",
       "    }\n",
       "</style>\n",
       "<table border=\"1\" class=\"dataframe\">\n",
       "  <thead>\n",
       "    <tr style=\"text-align: right;\">\n",
       "      <th></th>\n",
       "      <th>tweet</th>\n",
       "    </tr>\n",
       "  </thead>\n",
       "  <tbody>\n",
       "    <tr>\n",
       "      <td>0</td>\n",
       "      <td>Dengan tidak adanya jouska membuat teman teman...</td>\n",
       "    </tr>\n",
       "    <tr>\n",
       "      <td>1</td>\n",
       "      <td>Daripada stress lebih baik ke lapangan denggun...</td>\n",
       "    </tr>\n",
       "    <tr>\n",
       "      <td>2</td>\n",
       "      <td>Sekarang yg dibahas malah nama CEO jouska yang...</td>\n",
       "    </tr>\n",
       "    <tr>\n",
       "      <td>3</td>\n",
       "      <td>satu per satu bangkenya ceo jouska kebongkar</td>\n",
       "    </tr>\n",
       "    <tr>\n",
       "      <td>4</td>\n",
       "      <td>Netijen selalu semangat utk menguliti Aakar ma...</td>\n",
       "    </tr>\n",
       "    <tr>\n",
       "      <td>...</td>\n",
       "      <td>...</td>\n",
       "    </tr>\n",
       "    <tr>\n",
       "      <td>995</td>\n",
       "      <td>tim bola apa jouska</td>\n",
       "    </tr>\n",
       "    <tr>\n",
       "      <td>996</td>\n",
       "      <td>Penjelasan yg sangat detail tentang Jouska Skr...</td>\n",
       "    </tr>\n",
       "    <tr>\n",
       "      <td>997</td>\n",
       "      <td>21 Merana Karena Drama Jouska Bersama Safir Se...</td>\n",
       "    </tr>\n",
       "    <tr>\n",
       "      <td>998</td>\n",
       "      <td>netijen cuma cari tempat komentar akun jouska ...</td>\n",
       "    </tr>\n",
       "    <tr>\n",
       "      <td>999</td>\n",
       "      <td>Wingi sengojo golek link podcast e Jouska ning...</td>\n",
       "    </tr>\n",
       "  </tbody>\n",
       "</table>\n",
       "<p>1000 rows × 1 columns</p>\n",
       "</div>"
      ],
      "text/plain": [
       "                                                 tweet\n",
       "0    Dengan tidak adanya jouska membuat teman teman...\n",
       "1    Daripada stress lebih baik ke lapangan denggun...\n",
       "2    Sekarang yg dibahas malah nama CEO jouska yang...\n",
       "3         satu per satu bangkenya ceo jouska kebongkar\n",
       "4    Netijen selalu semangat utk menguliti Aakar ma...\n",
       "..                                                 ...\n",
       "995                                tim bola apa jouska\n",
       "996  Penjelasan yg sangat detail tentang Jouska Skr...\n",
       "997  21 Merana Karena Drama Jouska Bersama Safir Se...\n",
       "998  netijen cuma cari tempat komentar akun jouska ...\n",
       "999  Wingi sengojo golek link podcast e Jouska ning...\n",
       "\n",
       "[1000 rows x 1 columns]"
      ]
     },
     "execution_count": 3,
     "metadata": {},
     "output_type": "execute_result"
    }
   ],
   "source": [
    "items = []\n",
    "for tweet in tweets:\n",
    "    item = []\n",
    "    item.append (' '.join(re.sub(\"(@[A-Za-z0-9]+)|([^0-9A-Za-z \\t])|(\\w+:\\/\\/\\S+)\", \" \", tweet.text).split()))\n",
    "    items.append(item)\n",
    "hasil = pd.DataFrame(data=items, columns=['tweet'])\n",
    "hasil"
   ]
  },
  {
   "cell_type": "code",
   "execution_count": 8,
   "metadata": {},
   "outputs": [],
   "source": [
    "pos_list= open(\"D:/TELKOM UNIVERSITY/Course IT/SANBERCODE/DATA SCIENCE LANJUTAN/WEEK 2/kata_positif.txt\",\"r\")\n",
    "pos_kata = pos_list.readlines()\n",
    "neg_list= open(\"D:/TELKOM UNIVERSITY/Course IT/SANBERCODE/DATA SCIENCE LANJUTAN/WEEK 2/kata_negatif.txt\",\"r\")\n",
    "neg_kata = neg_list.readlines()\n",
    "\n",
    "\n",
    "for item in items:\n",
    "    count_p = 0\n",
    "    count_n = 0\n",
    "    for kata_pos in pos_kata:\n",
    "        if kata_pos.strip() in item[0]:\n",
    "            count_p +=1\n",
    "    for kata_neg in neg_kata:\n",
    "        if kata_neg.strip() in item[0]:\n",
    "            count_n +=1\n",
    "#     print (\"positif: \"+str(count_p))\n",
    "#     print (\"negatif: \"+str(count_n))\n",
    "\n"
   ]
  },
  {
   "cell_type": "code",
   "execution_count": 5,
   "metadata": {},
   "outputs": [],
   "source": [
    "# totCount = count_p - count_n\n",
    "# totCount"
   ]
  },
  {
   "cell_type": "code",
   "execution_count": 9,
   "metadata": {},
   "outputs": [
    {
     "name": "stdout",
     "output_type": "stream",
     "text": [
      "Nilai rata-rata: -0.483\n",
      "Standar deviasi: 1.5778818079944976\n"
     ]
    }
   ],
   "source": [
    "S = []\n",
    "for item in items:\n",
    "        count_p = 0\n",
    "        count_n = 0\n",
    "        for kata_pos in pos_kata:\n",
    "            if kata_pos.strip() in item[0]:\n",
    "                count_p +=1\n",
    "        for kata_neg in neg_kata:\n",
    "            if kata_neg.strip() in item[0]:\n",
    "                count_n +=1\n",
    "        S.append(count_p - count_n)\n",
    "    \n",
    "hasil[\"value\"] = S\n",
    "print (\"Nilai rata-rata: \"+str(np.mean(hasil[\"value\"])))\n",
    "print (\"Standar deviasi: \"+str(np.std(hasil[\"value\"])))"
   ]
  },
  {
   "cell_type": "code",
   "execution_count": 10,
   "metadata": {},
   "outputs": [
    {
     "data": {
      "image/png": "[encoded data removed]",
      "text/plain": [
       "<Figure size 432x288 with 1 Axes>"
      ]
     },
     "metadata": {
      "needs_background": "light"
     },
     "output_type": "display_data"
    }
   ],
   "source": [
    "labels, counts = np.unique(hasil[\"value\"], return_counts=True)\n",
    "plt.bar(labels, counts, align='center')\n",
    "plt.gca().set_xticks(labels)\n",
    "plt.show()"
   ]
  },
  {
   "cell_type": "code",
   "execution_count": null,
   "metadata": {},
   "outputs": [],
   "source": []
  }
 ],
 "metadata": {
  "kernelspec": {
   "display_name": "Python 3",
   "language": "python",
   "name": "python3"
  },
  "language_info": {
   "codemirror_mode": {
    "name": "ipython",
    "version": 3
   },
   "file_extension": ".py",
   "mimetype": "text/x-python",
   "name": "python",
   "nbconvert_exporter": "python",
   "pygments_lexer": "ipython3",
   "version": "3.7.4"
  }
 },
 "nbformat": 4,
 "nbformat_minor": 4
}
