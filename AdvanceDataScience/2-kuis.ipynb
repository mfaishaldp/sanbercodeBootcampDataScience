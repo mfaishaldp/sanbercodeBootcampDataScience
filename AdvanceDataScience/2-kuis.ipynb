{
 "cells": [
  {
   "cell_type": "code",
   "execution_count": 1,
   "metadata": {},
   "outputs": [],
   "source": [
    "import tweepy\n",
    "\n",
    "consumer_key = \"E94DFtes8j5myDibhj4sfs0NA\"\n",
    "consumer_secret = \"f02atPbdvNHpaOyo5CzfKKDQidqY3JPdSDxTVEuL9Oi220RaZh\"\n",
    "access_token = \"358155084-9hyegtGt2qSXTw3OYa5vOdR27Zx9BECK40Z1QWay\"\n",
    "access_token_secret = \"qh8kdCttP4ciVAdYMU70NQmw9oFzapA6f5U3OCtgTg9W3\"\n",
    "\n",
    "auth = tweepy.OAuthHandler(consumer_key,consumer_secret)\n",
    "auth.set_access_token(access_token,access_token_secret)\n",
    "api = tweepy.API(auth)"
   ]
  },
  {
   "cell_type": "code",
   "execution_count": 13,
   "metadata": {},
   "outputs": [
    {
     "name": "stdout",
     "output_type": "stream",
     "text": [
      "Bupati Aceh Tamiang berharap, adanya belasan dokter dan perawat yang terjangkit virus corona bisa menyadarkan warga… https://t.co/qOzPORCqeW\n",
      "Dari 11 orang yang ditangkap, sebanyak empat orang diduga kuat melakukan penganiayaan. https://t.co/9H9JGLzcrp\n",
      "\"Untuk kondisnya masih sama dari yang di RS Sari Asih. Sudah sadar, cuma ada yang kurang tidak seperti yang kurang… https://t.co/mJGSFt95KV\n",
      "Perburuan badak di Afrika Selatan turun lebih dari 50 persen selama lockdown Covid-19. Badak diburu karena tanduk a… https://t.co/kmFioPi7fk\n",
      "5. Selain itu, Bareskrim juga akan mendalami dugaan aliran dana ke pihak-pihak yang membantu pelarian Djoko Tjandra… https://t.co/gZMhpPPTRp\n",
      "4. Pada kesempatan yang sama, Kabareskrim Komjen (Pol) Listyo Sigit Prabowo mengatakan, pihaknya masih perlu melaku… https://t.co/YIFAsLPYjZ\n",
      "Rencananya akan dibangun empat unit reaktor di PLTN Barakah. https://t.co/4CdZvt4woR\n",
      "Kecelakaan maut mobil dengan motor yang terjadi pada Jumat (31/7/2020) itu menyebabkan tiga orang meninggal dunia. https://t.co/j4CiZ59U4U\n",
      "3. Jaksa Agung Muda Tindak Pidana Khusus Ali Mukartono mengatakan, setelah proses penyerahan status Djoko Tjandra k… https://t.co/r47xs7R6FJ\n",
      "2. Serah terima tersebut dilakukan di Gedung Bareskrim Mabes Polri, Jakarta, Jumat (31/7/2020) malam. Untuk sementa… https://t.co/jNIS7Q5SA9\n",
      "Dalam proses daftar ulang ini, ada sejumlah hal yang patut diperhatikan oleh para peserta SKB CPNS. Apa saja? Simak… https://t.co/WL5Jozbr07\n",
      "Final Piala FA malam ini dipredksi akan sengit karena mempertemukan dua tim asal Kota London, Arsenal vs Chelea, Sa… https://t.co/6cbRsfCcr8\n",
      "Presiden Napoli, Auerelia De Laurentiis, mengecam UEFA yang memaksakan menggelar laga Liga Champions di Barcelona d… https://t.co/fHIKHi8n2v\n",
      "\"Masa kecil saya di Semarang, semasa SMP dan SMA, naik sepeda sepanjang Jalan Pemuda dan Jalan Kalisari menikmati j… https://t.co/KK6epjw6bA\n",
      "Olivier Giroud akan menjadi sorotan dalam laga Arsenal vs Chelsea pada final Piala FA yang digelar di Stadion Wembl… https://t.co/xuR0rtfJQi\n",
      "Kapasitas pengunjung Ragunan sebelumnya dibatasi 1000 orang. https://t.co/w6prCVk0XI\n",
      "Thread: \n",
      "\n",
      "1. Badan Reserse Kriminal (Bareskrim) Polri menyerahkan terpidana kasus pengalihan hak tagih (cessie) Ban… https://t.co/TS0WI3BtV9\n",
      "RT @kompasiana: 4 Alasan Mengapa Pemetaan Kebutuhan PJJ Sangat Penting bagi Mas Nadiem https://t.co/Q1ZBotqqg1\n",
      "RT @kompasiana: Kisah Droplet Bu Cukia dan Kiat Berbicara Tanpa Keluar Air Liur https://t.co/HLUoXb5Lwu\n",
      "RT @kompasiana: \"The Big 4\" Ciri Pemimpin yang Wajib Kita Miliki https://t.co/apBgUb39Fi\n"
     ]
    }
   ],
   "source": [
    "# indonesia_woe = 23424846\n",
    "# trends = api.trends_place(indonesia_woe)\n",
    "\n",
    "# for item in (trends[0]['trends']):\n",
    "#     print(item['name'])\n",
    "    \n",
    "user = \"kompascom\"\n",
    "hasil = api.user_timeline(id = user)\n",
    "\n",
    "# hasil\n",
    "# for tweet in hasil:\n",
    "#     print(tweet.user.name)\n",
    "\n",
    "for tweet in hasil:\n",
    "    print(tweet.text)"
   ]
  },
  {
   "cell_type": "code",
   "execution_count": null,
   "metadata": {},
   "outputs": [],
   "source": [
    "# def cekteks(tweets):\n",
    "#     items = []\n",
    "#     for tweet in tweets:\n",
    "#         item = []\n",
    "#         item.append (' '.join(re.sub(\"(@[A-Za-z0-9]+)|([^0-9A-Za-z \\t])|(\\w+:\\/\\/\\S+)\", \" \", tweet.text).split()))\n",
    "#         items.append(item)\n",
    "    \n",
    "    \n",
    "#     items\n",
    "    "
   ]
  }
 ],
 "metadata": {
  "kernelspec": {
   "display_name": "Python 3",
   "language": "python",
   "name": "python3"
  },
  "language_info": {
   "codemirror_mode": {
    "name": "ipython",
    "version": 3
   },
   "file_extension": ".py",
   "mimetype": "text/x-python",
   "name": "python",
   "nbconvert_exporter": "python",
   "pygments_lexer": "ipython3",
   "version": "3.7.4"
  }
 },
 "nbformat": 4,
 "nbformat_minor": 4
}
