{
 "cells": [
  {
   "cell_type": "code",
   "execution_count": 2,
   "metadata": {},
   "outputs": [],
   "source": [
    "import tweepy\n",
    "\n",
    "consumer_key = \"E94DFtes8j5myDibhj4sfs0NA\"\n",
    "consumer_secret = \"f02atPbdvNHpaOyo5CzfKKDQidqY3JPdSDxTVEuL9Oi220RaZh\"\n",
    "access_token = \"358155084-9hyegtGt2qSXTw3OYa5vOdR27Zx9BECK40Z1QWay\"\n",
    "access_token_secret = \"qh8kdCttP4ciVAdYMU70NQmw9oFzapA6f5U3OCtgTg9W3\"\n",
    "\n",
    "auth = tweepy.OAuthHandler(consumer_key,consumer_secret)\n",
    "auth.set_access_token(access_token,access_token_secret)\n",
    "api = tweepy.API(auth)"
   ]
  },
  {
   "cell_type": "code",
   "execution_count": 10,
   "metadata": {},
   "outputs": [
    {
     "name": "stdout",
     "output_type": "stream",
     "text": [
      "Gilang\n",
      "#PolriAjakPakaiMasker\n",
      "JENO\n",
      "Bungkus\n",
      "#CountdownToMars\n",
      "#CegahCovidStopDemoUnfaedah\n",
      "dowoon\n",
      "#sotusthereunion\n",
      "#FriendshipDay\n",
      "Serem\n",
      "Kuliah S1\n",
      "Vertigo\n",
      "\"Mas\"\n",
      "Puasa\n",
      "Unair\n",
      "Pocong\n",
      "korbannya\n",
      "Idul Adha\n",
      "Profesional\n",
      "Park Chanyeol\n",
      "Ajip Rosidi\n",
      "Seung\n",
      "Kak Naj\n",
      "Predator\n",
      "Karetnya\n",
      "Creepy\n",
      "Arafah\n",
      "HELM\n",
      "Sapinya\n",
      "Dingin\n",
      "Kelainan\n",
      "Maba\n",
      "Iron Maiden\n",
      "7dream\n",
      "#kodoku_giveaway\n",
      "#kitabelakitabeli\n",
      "#VMAs2020\n",
      "#GotongRoyongSemuaTertolong\n",
      "#MasGanteng\n",
      "#PadatKaryaTunaiDesa\n",
      "#TREASURE_BOY\n",
      "#SelamatkanAPBNdariKadrun\n",
      "#iduladha2020\n",
      "#TaatPangkalBahagia\n",
      "#HRSKorbanKriminalisasi\n",
      "#guebersamahrs\n",
      "#SarriOut\n",
      "#SiapAdaptasi\n",
      "#BPJSMelayani\n",
      "#dieng\n"
     ]
    }
   ],
   "source": [
    "indonesia_woe = 23424846\n",
    "\n",
    "trends = api.trends_place(indonesia_woe)\n",
    "\n",
    "# print(trends)\n",
    "\n",
    "for item in (trends[0]['trends']):\n",
    "    print(item['name'])"
   ]
  },
  {
   "cell_type": "code",
   "execution_count": null,
   "metadata": {},
   "outputs": [],
   "source": []
  }
 ],
 "metadata": {
  "kernelspec": {
   "display_name": "Python 3",
   "language": "python",
   "name": "python3"
  },
  "language_info": {
   "codemirror_mode": {
    "name": "ipython",
    "version": 3
   },
   "file_extension": ".py",
   "mimetype": "text/x-python",
   "name": "python",
   "nbconvert_exporter": "python",
   "pygments_lexer": "ipython3",
   "version": "3.7.4"
  }
 },
 "nbformat": 4,
 "nbformat_minor": 4
}
