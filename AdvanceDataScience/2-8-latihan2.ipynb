{
 "cells": [
  {
   "cell_type": "code",
   "execution_count": 1,
   "metadata": {},
   "outputs": [],
   "source": [
    "import tweepy\n",
    "import re\n",
    "import pandas as pd\n",
    "import numpy as np\n",
    "import matplotlib.pyplot as plt\n",
    "\n",
    "consumer_key = \"E94DFtes8j5myDibhj4sfs0NA\"\n",
    "consumer_secret = \"f02atPbdvNHpaOyo5CzfKKDQidqY3JPdSDxTVEuL9Oi220RaZh\"\n",
    "access_token = \"358155084-9hyegtGt2qSXTw3OYa5vOdR27Zx9BECK40Z1QWay\"\n",
    "access_token_secret = \"qh8kdCttP4ciVAdYMU70NQmw9oFzapA6f5U3OCtgTg9W3\"\n",
    "\n",
    "auth = tweepy.OAuthHandler(consumer_key,consumer_secret)\n",
    "auth.set_access_token(access_token,access_token_secret)\n",
    "api = tweepy.API(auth)"
   ]
  },
  {
   "cell_type": "code",
   "execution_count": 2,
   "metadata": {},
   "outputs": [],
   "source": [
    "search_words = \"covid\"\n",
    "date_since = \"2020-07-23\"\n",
    "new_search = search_words + \" -filter:retweets\"\n",
    "\n",
    "tweets = tweepy.Cursor(api.search,\n",
    "        q=new_search,\n",
    "        lang=\"id\",\n",
    "        since=date_since).items(10)"
   ]
  },
  {
   "cell_type": "code",
   "execution_count": 3,
   "metadata": {},
   "outputs": [],
   "source": [
    "items = []\n",
    "for tweet in tweets:\n",
    "    item = []\n",
    "    item.append (' '.join(re.sub(\"(@[A-Za-z0-9]+)|([^0-9A-Za-z \\t])|(\\w+:\\/\\/\\S+)\", \" \", tweet.text).split()))\n",
    "    items.append(item)\n",
    "hasil = pd.DataFrame(data=items, columns=['tweet'])"
   ]
  },
  {
   "cell_type": "code",
   "execution_count": 4,
   "metadata": {},
   "outputs": [
    {
     "name": "stdout",
     "output_type": "stream",
     "text": [
      "positif: 2\n",
      "negatif: 3\n",
      "positif: 0\n",
      "negatif: 1\n",
      "positif: 0\n",
      "negatif: 0\n",
      "positif: 1\n",
      "negatif: 0\n",
      "positif: 0\n",
      "negatif: 0\n",
      "positif: 0\n",
      "negatif: 2\n",
      "positif: 1\n",
      "negatif: 1\n",
      "positif: 0\n",
      "negatif: 1\n",
      "positif: 1\n",
      "negatif: 0\n",
      "positif: 3\n",
      "negatif: 0\n"
     ]
    }
   ],
   "source": [
    "pos_list= open(\"D:/TELKOM UNIVERSITY/Course IT/SANBERCODE/DATA SCIENCE LANJUTAN/WEEK 2/kata_positif.txt\",\"r\")\n",
    "pos_kata = pos_list.readlines()\n",
    "neg_list= open(\"D:/TELKOM UNIVERSITY/Course IT/SANBERCODE/DATA SCIENCE LANJUTAN/WEEK 2/kata_negatif.txt\",\"r\")\n",
    "neg_kata = neg_list.readlines()\n",
    "\n",
    "# count_p = 0\n",
    "# count_n = 0\n",
    "# for item in items:\n",
    "    \n",
    "#     for kata_pos in pos_kata:\n",
    "#         if kata_pos.strip() in item[0]:\n",
    "#             count_p +=1\n",
    "#     for kata_neg in neg_kata:\n",
    "#         if kata_neg.strip() in item[0]:\n",
    "#             count_n +=1\n",
    "# print (\"positif: \"+str(count_p))\n",
    "# print (\"negatif: \"+str(count_n))\n",
    "\n",
    "\n",
    "for item in items:\n",
    "    count_p = 0\n",
    "    count_n = 0\n",
    "    for kata_pos in pos_kata:\n",
    "        if kata_pos.strip() in item[0]:\n",
    "            count_p +=1\n",
    "    for kata_neg in neg_kata:\n",
    "        if kata_neg.strip() in item[0]:\n",
    "            count_n +=1\n",
    "    print (\"positif: \"+str(count_p))\n",
    "    print (\"negatif: \"+str(count_n))"
   ]
  },
  {
   "cell_type": "code",
   "execution_count": 5,
   "metadata": {},
   "outputs": [
    {
     "data": {
      "text/plain": [
       "3"
      ]
     },
     "execution_count": 5,
     "metadata": {},
     "output_type": "execute_result"
    }
   ],
   "source": [
    "totCount = count_p - count_n\n",
    "totCount\n",
    "\n",
    "# Total Nilai > 0, maka sentimen positif\n",
    "# Total Nilai < 0, maka sentimen negatif\n",
    "# Total Nilai = 0, maka sentimen netral"
   ]
  },
  {
   "cell_type": "code",
   "execution_count": 6,
   "metadata": {},
   "outputs": [
    {
     "name": "stdout",
     "output_type": "stream",
     "text": [
      "Nilai rata-rata: 0.0\n",
      "Standar deviasi: 1.3416407864998738\n"
     ]
    }
   ],
   "source": [
    "S = []\n",
    "for item in items:\n",
    "        count_p = 0\n",
    "        count_n = 0\n",
    "        for kata_pos in pos_kata:\n",
    "            if kata_pos.strip() in item[0]:\n",
    "                count_p +=1\n",
    "        for kata_neg in neg_kata:\n",
    "            if kata_neg.strip() in item[0]:\n",
    "                count_n +=1\n",
    "        S.append(count_p - count_n)\n",
    "    \n",
    "hasil[\"value\"] = S\n",
    "print (\"Nilai rata-rata: \"+str(np.mean(hasil[\"value\"])))\n",
    "print (\"Standar deviasi: \"+str(np.std(hasil[\"value\"])))"
   ]
  },
  {
   "cell_type": "code",
   "execution_count": 7,
   "metadata": {},
   "outputs": [
    {
     "data": {
      "image/png": "[encoded data removed]",
      "text/plain": [
       "<Figure size 432x288 with 1 Axes>"
      ]
     },
     "metadata": {
      "needs_background": "light"
     },
     "output_type": "display_data"
    }
   ],
   "source": [
    "labels, counts = np.unique(hasil[\"value\"], return_counts=True)\n",
    "plt.bar(labels, counts, align='center')\n",
    "plt.gca().set_xticks(labels)\n",
    "plt.show()"
   ]
  },
  {
   "cell_type": "code",
   "execution_count": 8,
   "metadata": {},
   "outputs": [
    {
     "data": {
      "text/html": [
       "<div>\n",
       "<style scoped>\n",
       "    .dataframe tbody tr th:only-of-type {\n",
       "        vertical-align: middle;\n",
       "    }\n",
       "\n",
       "    .dataframe tbody tr th {\n",
       "        vertical-align: top;\n",
       "    }\n",
       "\n",
       "    .dataframe thead th {\n",
       "        text-align: right;\n",
       "    }\n",
       "</style>\n",
       "<table border=\"1\" class=\"dataframe\">\n",
       "  <thead>\n",
       "    <tr style=\"text-align: right;\">\n",
       "      <th></th>\n",
       "      <th>tweet</th>\n",
       "      <th>value</th>\n",
       "    </tr>\n",
       "  </thead>\n",
       "  <tbody>\n",
       "    <tr>\n",
       "      <td>0</td>\n",
       "      <td>Memang PR saya yang belum selesai soal jembata...</td>\n",
       "      <td>-1</td>\n",
       "    </tr>\n",
       "    <tr>\n",
       "      <td>1</td>\n",
       "      <td>I bet tikamatenga chikho madzulowa mawa mankhw...</td>\n",
       "      <td>-1</td>\n",
       "    </tr>\n",
       "    <tr>\n",
       "      <td>2</td>\n",
       "      <td>hello brpa minggu sudah nada kes baru Covid 19...</td>\n",
       "      <td>0</td>\n",
       "    </tr>\n",
       "    <tr>\n",
       "      <td>3</td>\n",
       "      <td>Upaya Pencegahan penyebaran Virus Corona Covid...</td>\n",
       "      <td>1</td>\n",
       "    </tr>\n",
       "    <tr>\n",
       "      <td>4</td>\n",
       "      <td>Studi Mobilitas Kantor Rumah dan Risiko COVID ...</td>\n",
       "      <td>0</td>\n",
       "    </tr>\n",
       "    <tr>\n",
       "      <td>5</td>\n",
       "      <td>Kudu sedih apa piye nek misal keluargamu nyepe...</td>\n",
       "      <td>-2</td>\n",
       "    </tr>\n",
       "    <tr>\n",
       "      <td>6</td>\n",
       "      <td>BerinovasiUntukIndonesia sertaa menjangkau pan...</td>\n",
       "      <td>0</td>\n",
       "    </tr>\n",
       "    <tr>\n",
       "      <td>7</td>\n",
       "      <td>Pelaksanaan Sholat Idul Adha 1441 H dan penyem...</td>\n",
       "      <td>-1</td>\n",
       "    </tr>\n",
       "    <tr>\n",
       "      <td>8</td>\n",
       "      <td>Pelajar hingga anggota Polri di Batam positif ...</td>\n",
       "      <td>1</td>\n",
       "    </tr>\n",
       "    <tr>\n",
       "      <td>9</td>\n",
       "      <td>Salah satu sejawat yg sangat islami pejuang co...</td>\n",
       "      <td>3</td>\n",
       "    </tr>\n",
       "  </tbody>\n",
       "</table>\n",
       "</div>"
      ],
      "text/plain": [
       "                                               tweet  value\n",
       "0  Memang PR saya yang belum selesai soal jembata...     -1\n",
       "1  I bet tikamatenga chikho madzulowa mawa mankhw...     -1\n",
       "2  hello brpa minggu sudah nada kes baru Covid 19...      0\n",
       "3  Upaya Pencegahan penyebaran Virus Corona Covid...      1\n",
       "4  Studi Mobilitas Kantor Rumah dan Risiko COVID ...      0\n",
       "5  Kudu sedih apa piye nek misal keluargamu nyepe...     -2\n",
       "6  BerinovasiUntukIndonesia sertaa menjangkau pan...      0\n",
       "7  Pelaksanaan Sholat Idul Adha 1441 H dan penyem...     -1\n",
       "8  Pelajar hingga anggota Polri di Batam positif ...      1\n",
       "9  Salah satu sejawat yg sangat islami pejuang co...      3"
      ]
     },
     "execution_count": 8,
     "metadata": {},
     "output_type": "execute_result"
    }
   ],
   "source": [
    "hasil"
   ]
  },
  {
   "cell_type": "code",
   "execution_count": null,
   "metadata": {},
   "outputs": [],
   "source": []
  }
 ],
 "metadata": {
  "kernelspec": {
   "display_name": "Python 3",
   "language": "python",
   "name": "python3"
  },
  "language_info": {
   "codemirror_mode": {
    "name": "ipython",
    "version": 3
   },
   "file_extension": ".py",
   "mimetype": "text/x-python",
   "name": "python",
   "nbconvert_exporter": "python",
   "pygments_lexer": "ipython3",
   "version": "3.7.4"
  }
 },
 "nbformat": 4,
 "nbformat_minor": 4
}
