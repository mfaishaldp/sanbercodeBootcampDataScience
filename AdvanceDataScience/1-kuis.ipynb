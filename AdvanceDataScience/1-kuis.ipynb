{
 "cells": [
  {
   "cell_type": "code",
   "execution_count": 8,
   "metadata": {},
   "outputs": [],
   "source": [
    "from urllib.request import urlopen, Request\n",
    "from bs4 import BeautifulSoup\n",
    "import pandas as pd\n",
    "import seaborn as sns\n",
    "import matplotlib.pyplot as plt\n",
    "\n",
    "import matplotlib.pyplot as pltfrom \n",
    "from sklearn.cluster import KMeans\n",
    "\n",
    "alamat = \"https://en.wikipedia.org/wiki/List_of_Academy_Award-winning_films\"\n",
    "safeAdd = Request(alamat, headers={'User-Agent': 'Mozilla/5.0'})\n",
    "html = urlopen(safeAdd)\n",
    "data = BeautifulSoup(html, 'html.parser')\n",
    "\n",
    "# print(data)"
   ]
  },
  {
   "cell_type": "code",
   "execution_count": 22,
   "metadata": {},
   "outputs": [
    {
     "name": "stdout",
     "output_type": "stream",
     "text": [
      "                                                 Film  Year Awards Nominations\n",
      "0                                            Parasite  2019      4           6\n",
      "1                                      Ford v Ferrari  2019      2           4\n",
      "2   Learning to Skateboard in a Warzone (If You're...  2019      1           1\n",
      "3                               The Neighbors' Window  2019      1           1\n",
      "4                                        Little Women  2019      1           6\n",
      "5                                      Marriage Story  2019      1           6\n",
      "6                                         Jojo Rabbit  2019      1           6\n",
      "7                                         Toy Story 4  2019      1           2\n",
      "8                                               Joker  2019      2          11\n",
      "9                       Once Upon a Time in Hollywood  2019      2          10\n",
      "10                                               1917  2019      3          10\n",
      "11                                               Judy  2019      1           2\n",
      "12                                          Bombshell  2019      1           3\n",
      "13                                          Rocketman  2019      1           1\n",
      "14                                   American Factory  2019      1           1\n",
      "15                                          Hair Love  2019      1           1\n"
     ]
    }
   ],
   "source": [
    "table = data.find(\"table\",{\"class\" : \"wikitable sortable\"})\n",
    "rows = table.findAll(\"tr\",limit=17)\n",
    "\n",
    "hasil = []\n",
    "for row in rows:\n",
    "    info = []\n",
    "    for cell in row.findAll([\"td\",\"th\"]):\n",
    "        info.append(cell.get_text().strip())\n",
    "    hasil.append(info)\n",
    "    \n",
    "# print(hasil)\n",
    "\n",
    "df = pd.DataFrame(hasil[1:],columns = hasil[0])\n",
    "# df.set_index('#', inplace=True)\n",
    "print(df)\n"
   ]
  },
  {
   "cell_type": "code",
   "execution_count": null,
   "metadata": {},
   "outputs": [],
   "source": []
  }
 ],
 "metadata": {
  "kernelspec": {
   "display_name": "Python 3",
   "language": "python",
   "name": "python3"
  },
  "language_info": {
   "codemirror_mode": {
    "name": "ipython",
    "version": 3
   },
   "file_extension": ".py",
   "mimetype": "text/x-python",
   "name": "python",
   "nbconvert_exporter": "python",
   "pygments_lexer": "ipython3",
   "version": "3.7.4"
  }
 },
 "nbformat": 4,
 "nbformat_minor": 4
}
