{
 "cells": [
  {
   "cell_type": "markdown",
   "metadata": {
    "colab_type": "text",
    "id": "Mk6qjezc8tPu"
   },
   "source": [
    "# Quiz Pekan - 3\n",
    "\n",
    "Dataset-dataset berikut ini menunjukkan persentase fat, protein, dan food yang dikonsumsi dari setiap jenis makanan yang terdaftar. Beberapa bagian akhir dataset juga mencakup persentase obesitas(Obesity), kurang gizi(Undernourished), dan kasus COVID-19 yang Terkonfirmasi(Confirmed)/Kematian(Deaths)/Sembuh(Recovered)/Aktif(Active).\n",
    "\n",
    "(Catatan: Semua data memiliki unit '%' (persen) kecuali Populasi, unit persen tersebut dihitung berdasarkan jumlah populasi).\n",
    "\n",
    "Link Download:\n",
    "\n",
    "[Food_Supply_Quantity_kg_Data.csv](https://drive.google.com/uc?export=download&id=1op0PFMMNglFtw8GVOF6HmomyAvgoY4jm)\n",
    "\n",
    "[Protein_Supply_Quantity_Data.csv](https://drive.google.com/uc?export=download&id=19vFZ1clhjY0vyC8onnlYE63w1QpmB4oj)\n",
    "\n",
    "[Fat_Supply_Quantity_Data.csv](https://drive.google.com/uc?export=download&id=1W1xIj5dGe9aLcg9cG6HVjlpdSqdlbue2)\n",
    "\n",
    "[Supply_Food_Data_Descriptions.csv](https://drive.google.com/uc?export=download&id=1hG4_-D0doXkTU1e7sqZabpRXgCkHt5Hr)"
   ]
  },
  {
   "cell_type": "code",
   "execution_count": 1,
   "metadata": {
    "colab": {},
    "colab_type": "code",
    "id": "NGNbQVKm4vgv"
   },
   "outputs": [],
   "source": [
    "import numpy as np\n",
    "import pandas as pd\n",
    "import matplotlib.pyplot as plt\n",
    "\n",
    "# Import Semua Data\n",
    "df_food = pd.read_csv('Food_Supply_Quantity_kg_Data.csv')\n",
    "df_protein = pd.read_csv('Protein_Supply_Quantity_Data.csv')\n",
    "df_fat = pd.read_csv('Fat_Supply_Quantity_Data.csv')\n",
    "df_category = pd.read_csv('Supply_Food_Data_Descriptions.csv')"
   ]
  },
  {
   "cell_type": "markdown",
   "metadata": {
    "colab_type": "text",
    "id": "Aj2MY336-ylZ"
   },
   "source": [
    "---"
   ]
  },
  {
   "cell_type": "markdown",
   "metadata": {
    "colab_type": "text",
    "id": "xWD8Zh-r_TxA"
   },
   "source": [
    "# Soal 1: Memisahkan kolom pada supply dataset antara kategori makanan dan bukan makanan"
   ]
  },
  {
   "cell_type": "markdown",
   "metadata": {
    "colab_type": "text",
    "id": "s4OM-RnaAQKl"
   },
   "source": [
    "Teman-teman diminta untuk menampilkan list kolom-kolom pada supply DataFrame dengan ketentuan sebagai berikut:\n",
    "\n",
    "*   all columns: list yang berisikan semua kolom pada supply DataFrame\n",
    "*   supply columns: list yang berisikan semua kolom pada supply DataFrame berdasarkan kolom 'Categories' pada DataFrame df_category\n",
    "*   non-supply columns: list yang berisikan semua kolom non-supply pada supply DataFrame\n"
   ]
  },
  {
   "cell_type": "code",
   "execution_count": 123,
   "metadata": {
    "colab": {},
    "colab_type": "code",
    "id": "8aHiCSZh5q1g"
   },
   "outputs": [
    {
     "name": "stdout",
     "output_type": "stream",
     "text": [
      "All Columns : ['Country', 'Alcoholic Beverages', 'Animal fats', 'Animal Products', 'Aquatic Products, Other', 'Cereals - Excluding Beer', 'Eggs', 'Fish, Seafood', 'Fruits - Excluding Wine', 'Meat', 'Milk - Excluding Butter', 'Miscellaneous', 'Offals', 'Oilcrops', 'Pulses', 'Spices', 'Starchy Roots', 'Stimulants', 'Sugar & Sweeteners', 'Sugar Crops', 'Treenuts', 'Vegetable Oils', 'Vegetables', 'Vegetal Products', 'Obesity', 'Undernourished', 'Confirmed', 'Deaths', 'Recovered', 'Active', 'Population', 'Unit (all except Population)'] \n",
      "\n",
      "\n",
      "supply Columns : ['Alcoholic Beverages', 'Animal fats', 'Animal Products', 'Aquatic Products, Other', 'Cereals - Excluding Beer', 'Eggs', 'Fish, Seafood', 'Fruits - Excluding Wine', 'Meat', 'Milk - Excluding Butter', 'Miscellaneous', 'Offals', 'Oilcrops', 'Pulses', 'Spices', 'Starchy Roots', 'Stimulants', 'Sugar & Sweeteners', 'Sugar Crops', 'Treenuts', 'Vegetable Oils', 'Vegetables', 'Vegetal Products'] \n",
      "\n",
      "\n",
      "supply Columns : ['Country', 'Obesity', 'Undernourished', 'Confirmed', 'Deaths', 'Recovered', 'Active', 'Population', 'Unit (all except Population)'] \n",
      "\n",
      "\n"
     ]
    }
   ],
   "source": [
    "# Example\n",
    "all_columns = df_food.columns.tolist()\n",
    "print(f'All Columns : {all_columns} \\n\\n')\n",
    "\n",
    "# Code here\n",
    "supply_columns = df_category['Categories'].tolist()\n",
    "print(f'supply Columns : {supply_columns} \\n\\n')\n",
    "\n",
    "\n",
    "\n",
    "non_supply_columns = [item for item in all_columns if item not in sply_col]\n",
    "print(f'supply Columns : {non_supply_columns} \\n\\n')\n",
    "# print(non_col)"
   ]
  },
  {
   "cell_type": "markdown",
   "metadata": {
    "colab_type": "text",
    "id": "A84xqzyoC0jU"
   },
   "source": [
    "Expected Output:\n",
    "\n",
    "![Expected Output:](https://drive.google.com/uc?id=1ItjI9ALd2I8tgJ2i8pa_UjdFfKS35mNu)"
   ]
  },
  {
   "cell_type": "markdown",
   "metadata": {
    "colab_type": "text",
    "id": "gnRBLXPZC3PD"
   },
   "source": [
    "---"
   ]
  },
  {
   "cell_type": "markdown",
   "metadata": {
    "colab_type": "text",
    "id": "zVjfRh2xDC8g"
   },
   "source": [
    "# Soal 2: Menggabungkan DataFrame\n",
    "\n"
   ]
  },
  {
   "cell_type": "markdown",
   "metadata": {
    "colab_type": "text",
    "id": "-xRZSuKBDYeQ"
   },
   "source": [
    "Gabungkan semua supply DataFrame dengan ketentuan tidak ada kolom dengan nama yang sama. Untuk kolom-kolom non-supply seperti tersebut di atas, memiliki nilai yang sama untuk setiap DataFrame, sehingga cukup ambil dari salah satu DataFrame. Sedangkan untuk kolom-kolom supply seperti tersebut di atas, setiap DataFrame (df_food, df_protein, df_fat) memiliki nilai yang berbeda, sehingga teman-teman perlu menambahkan suffix berdasarkan jenis supply DataFrame-nya, misalkan untuk kolom 'eggs' teman teman harus menambahkan suffix sehingga DataFrame gabungan memiliki kolom 'eggs_food', 'eggs_protein', dan 'eggs_fat'. Untuk mendapatkan gambaran lebih jelas, silahkan lihat pada expected output."
   ]
  },
  {
   "cell_type": "markdown",
   "metadata": {
    "colab_type": "text",
    "id": "UWBJLohAKODF"
   },
   "source": [
    "List kolom-kolom DataFrame hasil gabungan adalah sebagai berikut:\n",
    "\n",
    "\n",
    "```\n",
    " ['Country', 'Alcoholic Beverages_food', 'Animal fats_food',\n",
    "  'Animal Products_food', 'Aquatic Products, Other_food',\n",
    "  'Cereals - Excluding Beer_food', 'Eggs_food', 'Fish, Seafood_food',\n",
    "  'Fruits - Excluding Wine_food', 'Meat_food',\n",
    "  'Milk - Excluding Butter_food', 'Miscellaneous_food', 'Offals_food',\n",
    "  'Oilcrops_food', 'Pulses_food', 'Spices_food', 'Starchy Roots_food',\n",
    "  'Stimulants_food', 'Sugar & Sweeteners_food', 'Sugar Crops_food',\n",
    "  'Treenuts_food', 'Vegetable Oils_food', 'Vegetables_food',\n",
    "  'Vegetal Products_food', 'Alcoholic Beverages_protein',\n",
    "  'Animal fats_protein', 'Animal Products_protein',\n",
    "  'Aquatic Products, Other_protein', 'Cereals - Excluding Beer_protein',\n",
    "  'Eggs_protein', 'Fish, Seafood_protein',\n",
    "  'Fruits - Excluding Wine_protein', 'Meat_protein',\n",
    "  'Milk - Excluding Butter_protein', 'Miscellaneous_protein',\n",
    "  'Offals_protein', 'Oilcrops_protein', 'Pulses_protein',\n",
    "  'Spices_protein', 'Starchy Roots_protein', 'Stimulants_protein',\n",
    "  'Sugar & Sweeteners_protein', 'Sugar Crops_protein', 'Treenuts_protein',\n",
    "  'Vegetable Oils_protein', 'Vegetables_protein',\n",
    "  'Vegetal Products_protein', 'Alcoholic Beverages_fat',\n",
    "  'Animal fats_fat', 'Animal Products_fat', 'Aquatic Products, Other_fat',\n",
    "  'Cereals - Excluding Beer_fat', 'Eggs_fat', 'Fish, Seafood_fat',\n",
    "  'Fruits - Excluding Wine_fat', 'Meat_fat',\n",
    "  'Milk - Excluding Butter_fat', 'Miscellaneous_fat', 'Offals_fat',\n",
    "  'Oilcrops_fat', 'Pulses_fat', 'Spices_fat', 'Starchy Roots_fat',\n",
    "  'Stimulants_fat', 'Sugar & Sweeteners_fat', 'Sugar Crops_fat',\n",
    "  'Treenuts_fat', 'Vegetable Oils_fat', 'Vegetables_fat',\n",
    "  'Vegetal Products_fat', 'Obesity', 'Undernourished', 'Confirmed',\n",
    "  'Deaths', 'Recovered', 'Active', 'Population',\n",
    "  'Unit (all except Population)']\n",
    "```"
   ]
  },
  {
   "cell_type": "code",
   "execution_count": 124,
   "metadata": {
    "colab": {},
    "colab_type": "code",
    "id": "v8_WdQrCFvbY"
   },
   "outputs": [],
   "source": [
    "# Hint\n",
    "df_non_supply_new = df_food[non_supply_columns]\n",
    "df_food_new = df_food[['Country']+supply_columns]\n",
    "df_protein_new = df_protein[['Country']+supply_columns]\n",
    "df_fat_new = df_fat[['Country']+supply_columns]"
   ]
  },
  {
   "cell_type": "code",
   "execution_count": 143,
   "metadata": {
    "colab": {},
    "colab_type": "code",
    "id": "jtV0pJZGFwne"
   },
   "outputs": [
    {
     "data": {
      "text/html": [
       "<div>\n",
       "<style scoped>\n",
       "    .dataframe tbody tr th:only-of-type {\n",
       "        vertical-align: middle;\n",
       "    }\n",
       "\n",
       "    .dataframe tbody tr th {\n",
       "        vertical-align: top;\n",
       "    }\n",
       "\n",
       "    .dataframe thead th {\n",
       "        text-align: right;\n",
       "    }\n",
       "</style>\n",
       "<table border=\"1\" class=\"dataframe\">\n",
       "  <thead>\n",
       "    <tr style=\"text-align: right;\">\n",
       "      <th></th>\n",
       "      <th>Country</th>\n",
       "      <th>Alcoholic Beverages_food</th>\n",
       "      <th>Animal fats_food</th>\n",
       "      <th>Animal Products_food</th>\n",
       "      <th>Aquatic Products, Other_food</th>\n",
       "      <th>Cereals - Excluding Beer_food</th>\n",
       "      <th>Eggs_food</th>\n",
       "      <th>Fish, Seafood_food</th>\n",
       "      <th>Fruits - Excluding Wine_food</th>\n",
       "      <th>Meat_food</th>\n",
       "      <th>...</th>\n",
       "      <th>Vegetables</th>\n",
       "      <th>Vegetal Products</th>\n",
       "      <th>Obesity</th>\n",
       "      <th>Undernourished</th>\n",
       "      <th>Confirmed</th>\n",
       "      <th>Deaths</th>\n",
       "      <th>Recovered</th>\n",
       "      <th>Active</th>\n",
       "      <th>Population</th>\n",
       "      <th>Unit (all except Population)</th>\n",
       "    </tr>\n",
       "  </thead>\n",
       "  <tbody>\n",
       "    <tr>\n",
       "      <td>0</td>\n",
       "      <td>Afghanistan</td>\n",
       "      <td>0.0014</td>\n",
       "      <td>0.1973</td>\n",
       "      <td>9.4341</td>\n",
       "      <td>0.0000</td>\n",
       "      <td>24.8097</td>\n",
       "      <td>0.2099</td>\n",
       "      <td>0.0350</td>\n",
       "      <td>5.3495</td>\n",
       "      <td>1.2020</td>\n",
       "      <td>...</td>\n",
       "      <td>0.3593</td>\n",
       "      <td>28.3684</td>\n",
       "      <td>4.5</td>\n",
       "      <td>29.8</td>\n",
       "      <td>0.081402</td>\n",
       "      <td>0.001895</td>\n",
       "      <td>0.033132</td>\n",
       "      <td>0.046375</td>\n",
       "      <td>38042000.0</td>\n",
       "      <td>%</td>\n",
       "    </tr>\n",
       "    <tr>\n",
       "      <td>1</td>\n",
       "      <td>Albania</td>\n",
       "      <td>1.6719</td>\n",
       "      <td>0.1357</td>\n",
       "      <td>18.7684</td>\n",
       "      <td>0.0000</td>\n",
       "      <td>5.7817</td>\n",
       "      <td>0.5815</td>\n",
       "      <td>0.2126</td>\n",
       "      <td>6.7861</td>\n",
       "      <td>1.8845</td>\n",
       "      <td>...</td>\n",
       "      <td>0.6503</td>\n",
       "      <td>17.9998</td>\n",
       "      <td>22.3</td>\n",
       "      <td>6.2</td>\n",
       "      <td>0.084045</td>\n",
       "      <td>0.001924</td>\n",
       "      <td>0.048425</td>\n",
       "      <td>0.033695</td>\n",
       "      <td>2858000.0</td>\n",
       "      <td>%</td>\n",
       "    </tr>\n",
       "    <tr>\n",
       "      <td>2</td>\n",
       "      <td>Algeria</td>\n",
       "      <td>0.2711</td>\n",
       "      <td>0.0282</td>\n",
       "      <td>9.6334</td>\n",
       "      <td>0.0000</td>\n",
       "      <td>13.6816</td>\n",
       "      <td>0.5277</td>\n",
       "      <td>0.2416</td>\n",
       "      <td>6.3801</td>\n",
       "      <td>1.1305</td>\n",
       "      <td>...</td>\n",
       "      <td>0.5145</td>\n",
       "      <td>35.5857</td>\n",
       "      <td>26.6</td>\n",
       "      <td>3.9</td>\n",
       "      <td>0.030579</td>\n",
       "      <td>0.002067</td>\n",
       "      <td>0.021589</td>\n",
       "      <td>0.006923</td>\n",
       "      <td>43406000.0</td>\n",
       "      <td>%</td>\n",
       "    </tr>\n",
       "    <tr>\n",
       "      <td>3</td>\n",
       "      <td>Angola</td>\n",
       "      <td>5.8087</td>\n",
       "      <td>0.0560</td>\n",
       "      <td>4.9278</td>\n",
       "      <td>0.0000</td>\n",
       "      <td>9.1085</td>\n",
       "      <td>0.0587</td>\n",
       "      <td>1.7707</td>\n",
       "      <td>6.0005</td>\n",
       "      <td>2.0571</td>\n",
       "      <td>...</td>\n",
       "      <td>0.1231</td>\n",
       "      <td>34.7010</td>\n",
       "      <td>6.8</td>\n",
       "      <td>25</td>\n",
       "      <td>0.000850</td>\n",
       "      <td>0.000035</td>\n",
       "      <td>0.000258</td>\n",
       "      <td>0.000557</td>\n",
       "      <td>31427000.0</td>\n",
       "      <td>%</td>\n",
       "    </tr>\n",
       "    <tr>\n",
       "      <td>4</td>\n",
       "      <td>Antigua and Barbuda</td>\n",
       "      <td>3.5764</td>\n",
       "      <td>0.0087</td>\n",
       "      <td>16.6613</td>\n",
       "      <td>0.0000</td>\n",
       "      <td>5.9960</td>\n",
       "      <td>0.2274</td>\n",
       "      <td>4.1489</td>\n",
       "      <td>10.7451</td>\n",
       "      <td>5.6888</td>\n",
       "      <td>...</td>\n",
       "      <td>0.2469</td>\n",
       "      <td>22.2995</td>\n",
       "      <td>19.1</td>\n",
       "      <td>NaN</td>\n",
       "      <td>0.071134</td>\n",
       "      <td>0.003093</td>\n",
       "      <td>0.022680</td>\n",
       "      <td>0.045361</td>\n",
       "      <td>97000.0</td>\n",
       "      <td>%</td>\n",
       "    </tr>\n",
       "    <tr>\n",
       "      <td>...</td>\n",
       "      <td>...</td>\n",
       "      <td>...</td>\n",
       "      <td>...</td>\n",
       "      <td>...</td>\n",
       "      <td>...</td>\n",
       "      <td>...</td>\n",
       "      <td>...</td>\n",
       "      <td>...</td>\n",
       "      <td>...</td>\n",
       "      <td>...</td>\n",
       "      <td>...</td>\n",
       "      <td>...</td>\n",
       "      <td>...</td>\n",
       "      <td>...</td>\n",
       "      <td>...</td>\n",
       "      <td>...</td>\n",
       "      <td>...</td>\n",
       "      <td>...</td>\n",
       "      <td>...</td>\n",
       "      <td>...</td>\n",
       "      <td>...</td>\n",
       "    </tr>\n",
       "    <tr>\n",
       "      <td>165</td>\n",
       "      <td>Venezuela (Bolivarian Republic of)</td>\n",
       "      <td>2.5952</td>\n",
       "      <td>0.0403</td>\n",
       "      <td>14.7565</td>\n",
       "      <td>0.0000</td>\n",
       "      <td>12.9253</td>\n",
       "      <td>0.3389</td>\n",
       "      <td>0.9456</td>\n",
       "      <td>7.6460</td>\n",
       "      <td>3.8328</td>\n",
       "      <td>...</td>\n",
       "      <td>0.1851</td>\n",
       "      <td>33.6855</td>\n",
       "      <td>25.2</td>\n",
       "      <td>21.2</td>\n",
       "      <td>0.018576</td>\n",
       "      <td>0.000154</td>\n",
       "      <td>0.005783</td>\n",
       "      <td>0.012639</td>\n",
       "      <td>28516000.0</td>\n",
       "      <td>%</td>\n",
       "    </tr>\n",
       "    <tr>\n",
       "      <td>166</td>\n",
       "      <td>Vietnam</td>\n",
       "      <td>1.4591</td>\n",
       "      <td>0.1640</td>\n",
       "      <td>8.5765</td>\n",
       "      <td>0.0042</td>\n",
       "      <td>16.8740</td>\n",
       "      <td>0.3077</td>\n",
       "      <td>2.6392</td>\n",
       "      <td>5.9029</td>\n",
       "      <td>4.4382</td>\n",
       "      <td>...</td>\n",
       "      <td>0.6373</td>\n",
       "      <td>16.7548</td>\n",
       "      <td>2.1</td>\n",
       "      <td>9.3</td>\n",
       "      <td>0.000371</td>\n",
       "      <td>0.000000</td>\n",
       "      <td>0.000345</td>\n",
       "      <td>0.000026</td>\n",
       "      <td>95656000.0</td>\n",
       "      <td>%</td>\n",
       "    </tr>\n",
       "    <tr>\n",
       "      <td>167</td>\n",
       "      <td>Yemen</td>\n",
       "      <td>0.0364</td>\n",
       "      <td>0.0446</td>\n",
       "      <td>5.7874</td>\n",
       "      <td>0.0000</td>\n",
       "      <td>27.2077</td>\n",
       "      <td>0.2579</td>\n",
       "      <td>0.5240</td>\n",
       "      <td>5.1344</td>\n",
       "      <td>2.7871</td>\n",
       "      <td>...</td>\n",
       "      <td>0.1667</td>\n",
       "      <td>37.4535</td>\n",
       "      <td>14.1</td>\n",
       "      <td>38.9</td>\n",
       "      <td>0.003834</td>\n",
       "      <td>0.001036</td>\n",
       "      <td>0.001475</td>\n",
       "      <td>0.001324</td>\n",
       "      <td>29162000.0</td>\n",
       "      <td>%</td>\n",
       "    </tr>\n",
       "    <tr>\n",
       "      <td>168</td>\n",
       "      <td>Zambia</td>\n",
       "      <td>5.7360</td>\n",
       "      <td>0.0829</td>\n",
       "      <td>6.0197</td>\n",
       "      <td>0.0000</td>\n",
       "      <td>21.1938</td>\n",
       "      <td>0.3399</td>\n",
       "      <td>1.6924</td>\n",
       "      <td>1.0183</td>\n",
       "      <td>1.8427</td>\n",
       "      <td>...</td>\n",
       "      <td>0.1567</td>\n",
       "      <td>40.3939</td>\n",
       "      <td>6.5</td>\n",
       "      <td>46.7</td>\n",
       "      <td>0.008717</td>\n",
       "      <td>0.000123</td>\n",
       "      <td>0.007340</td>\n",
       "      <td>0.001254</td>\n",
       "      <td>17861000.0</td>\n",
       "      <td>%</td>\n",
       "    </tr>\n",
       "    <tr>\n",
       "      <td>169</td>\n",
       "      <td>Zimbabwe</td>\n",
       "      <td>4.0552</td>\n",
       "      <td>0.0755</td>\n",
       "      <td>8.1489</td>\n",
       "      <td>0.0000</td>\n",
       "      <td>22.6240</td>\n",
       "      <td>0.2678</td>\n",
       "      <td>0.5518</td>\n",
       "      <td>2.2000</td>\n",
       "      <td>2.6142</td>\n",
       "      <td>...</td>\n",
       "      <td>0.0789</td>\n",
       "      <td>39.6248</td>\n",
       "      <td>12.3</td>\n",
       "      <td>51.3</td>\n",
       "      <td>0.003872</td>\n",
       "      <td>0.000041</td>\n",
       "      <td>0.000970</td>\n",
       "      <td>0.002861</td>\n",
       "      <td>14645000.0</td>\n",
       "      <td>%</td>\n",
       "    </tr>\n",
       "  </tbody>\n",
       "</table>\n",
       "<p>170 rows × 78 columns</p>\n",
       "</div>"
      ],
      "text/plain": [
       "                                Country  Alcoholic Beverages_food  \\\n",
       "0                           Afghanistan                    0.0014   \n",
       "1                               Albania                    1.6719   \n",
       "2                               Algeria                    0.2711   \n",
       "3                                Angola                    5.8087   \n",
       "4                   Antigua and Barbuda                    3.5764   \n",
       "..                                  ...                       ...   \n",
       "165  Venezuela (Bolivarian Republic of)                    2.5952   \n",
       "166                             Vietnam                    1.4591   \n",
       "167                               Yemen                    0.0364   \n",
       "168                              Zambia                    5.7360   \n",
       "169                            Zimbabwe                    4.0552   \n",
       "\n",
       "     Animal fats_food  Animal Products_food  Aquatic Products, Other_food  \\\n",
       "0              0.1973                9.4341                        0.0000   \n",
       "1              0.1357               18.7684                        0.0000   \n",
       "2              0.0282                9.6334                        0.0000   \n",
       "3              0.0560                4.9278                        0.0000   \n",
       "4              0.0087               16.6613                        0.0000   \n",
       "..                ...                   ...                           ...   \n",
       "165            0.0403               14.7565                        0.0000   \n",
       "166            0.1640                8.5765                        0.0042   \n",
       "167            0.0446                5.7874                        0.0000   \n",
       "168            0.0829                6.0197                        0.0000   \n",
       "169            0.0755                8.1489                        0.0000   \n",
       "\n",
       "     Cereals - Excluding Beer_food  Eggs_food  Fish, Seafood_food  \\\n",
       "0                          24.8097     0.2099              0.0350   \n",
       "1                           5.7817     0.5815              0.2126   \n",
       "2                          13.6816     0.5277              0.2416   \n",
       "3                           9.1085     0.0587              1.7707   \n",
       "4                           5.9960     0.2274              4.1489   \n",
       "..                             ...        ...                 ...   \n",
       "165                        12.9253     0.3389              0.9456   \n",
       "166                        16.8740     0.3077              2.6392   \n",
       "167                        27.2077     0.2579              0.5240   \n",
       "168                        21.1938     0.3399              1.6924   \n",
       "169                        22.6240     0.2678              0.5518   \n",
       "\n",
       "     Fruits - Excluding Wine_food  Meat_food  ...  Vegetables  \\\n",
       "0                          5.3495     1.2020  ...      0.3593   \n",
       "1                          6.7861     1.8845  ...      0.6503   \n",
       "2                          6.3801     1.1305  ...      0.5145   \n",
       "3                          6.0005     2.0571  ...      0.1231   \n",
       "4                         10.7451     5.6888  ...      0.2469   \n",
       "..                            ...        ...  ...         ...   \n",
       "165                        7.6460     3.8328  ...      0.1851   \n",
       "166                        5.9029     4.4382  ...      0.6373   \n",
       "167                        5.1344     2.7871  ...      0.1667   \n",
       "168                        1.0183     1.8427  ...      0.1567   \n",
       "169                        2.2000     2.6142  ...      0.0789   \n",
       "\n",
       "     Vegetal Products  Obesity  Undernourished  Confirmed    Deaths  \\\n",
       "0             28.3684      4.5            29.8   0.081402  0.001895   \n",
       "1             17.9998     22.3             6.2   0.084045  0.001924   \n",
       "2             35.5857     26.6             3.9   0.030579  0.002067   \n",
       "3             34.7010      6.8              25   0.000850  0.000035   \n",
       "4             22.2995     19.1             NaN   0.071134  0.003093   \n",
       "..                ...      ...             ...        ...       ...   \n",
       "165           33.6855     25.2            21.2   0.018576  0.000154   \n",
       "166           16.7548      2.1             9.3   0.000371  0.000000   \n",
       "167           37.4535     14.1            38.9   0.003834  0.001036   \n",
       "168           40.3939      6.5            46.7   0.008717  0.000123   \n",
       "169           39.6248     12.3            51.3   0.003872  0.000041   \n",
       "\n",
       "     Recovered    Active  Population  Unit (all except Population)  \n",
       "0     0.033132  0.046375  38042000.0                             %  \n",
       "1     0.048425  0.033695   2858000.0                             %  \n",
       "2     0.021589  0.006923  43406000.0                             %  \n",
       "3     0.000258  0.000557  31427000.0                             %  \n",
       "4     0.022680  0.045361     97000.0                             %  \n",
       "..         ...       ...         ...                           ...  \n",
       "165   0.005783  0.012639  28516000.0                             %  \n",
       "166   0.000345  0.000026  95656000.0                             %  \n",
       "167   0.001475  0.001324  29162000.0                             %  \n",
       "168   0.007340  0.001254  17861000.0                             %  \n",
       "169   0.000970  0.002861  14645000.0                             %  \n",
       "\n",
       "[170 rows x 78 columns]"
      ]
     },
     "execution_count": 143,
     "metadata": {},
     "output_type": "execute_result"
    }
   ],
   "source": [
    "# Selanjutnya gabungkan dataset pada hint di atas dengan menambahkan suffix berbeda untuk setiap supply dataset menggunakan pd.merge\n",
    "# Code here\n",
    "df1 = pd.merge(df_food_new, df_protein_new, on='Country', how='inner', suffixes=('_food', '_protein'))\n",
    "\n",
    "df2 = pd.merge(df_fat_new, df_non_supply_new, on='Country', how='inner', suffixes=('_fat', '_non.supply'))\n",
    "\n",
    "df3 = pd.merge(df1, df2, on='Country', how='inner')\n",
    "\n",
    "df3\n",
    "\n"
   ]
  },
  {
   "cell_type": "markdown",
   "metadata": {
    "colab_type": "text",
    "id": "5xLsdo-1vmk3"
   },
   "source": [
    "Expected output (kolom tidak semua ditampilkan):\n",
    "![Expected Output:](https://drive.google.com/uc?id=1_thZs6C82RhDFqWo5yGuZV_OWhgvqsnu)"
   ]
  },
  {
   "cell_type": "markdown",
   "metadata": {
    "colab_type": "text",
    "id": "8eRlFcl7IY-L"
   },
   "source": [
    "---"
   ]
  },
  {
   "cell_type": "markdown",
   "metadata": {
    "colab_type": "text",
    "id": "1O9_Cu_gIaxd"
   },
   "source": [
    "# Soal 3: Sorting dan Filtering"
   ]
  },
  {
   "cell_type": "markdown",
   "metadata": {
    "colab_type": "text",
    "id": "iIPsCyFSIh27"
   },
   "source": [
    "Dari DataFrame hasil penggabungan pada Soal 2 (atau gunakan salah satu supply DataFrame karena kolom nilai non-supply memiliki nilai yang sama), kemudian urutkan data (sort) berdasarkan kolom kematian ('Deaths') dari yang terbesar. Setelah itu lakukan perintah berikut:\n",
    "\n",
    "- Print data hasil sorting\n",
    "- Urutan ke berapakah Indonesia berdasarkan tingkat kematian akibat COVID-19 setelah diurutkan dari yang terbesar? Gunakan code mendapatkan nilainya! \n",
    "- Berapa persen dari terkonfirmasi jumlah kematian akibat COVID-19 di Indonesia? Hitung jumlah orang yang meninggal! Gunakan code mendapatkan nilainya! #hint: jumlah orang yang meninggal = populasi * kematian --> jangan lupa ada yang masih dalam persen\n"
   ]
  },
  {
   "cell_type": "code",
   "execution_count": 164,
   "metadata": {
    "colab": {},
    "colab_type": "code",
    "id": "n1yZCZ4bOo6m"
   },
   "outputs": [
    {
     "data": {
      "text/html": [
       "<div>\n",
       "<style scoped>\n",
       "    .dataframe tbody tr th:only-of-type {\n",
       "        vertical-align: middle;\n",
       "    }\n",
       "\n",
       "    .dataframe tbody tr th {\n",
       "        vertical-align: top;\n",
       "    }\n",
       "\n",
       "    .dataframe thead th {\n",
       "        text-align: right;\n",
       "    }\n",
       "</style>\n",
       "<table border=\"1\" class=\"dataframe\">\n",
       "  <thead>\n",
       "    <tr style=\"text-align: right;\">\n",
       "      <th></th>\n",
       "      <th>Country</th>\n",
       "      <th>Alcoholic Beverages_food</th>\n",
       "      <th>Animal fats_food</th>\n",
       "      <th>Animal Products_food</th>\n",
       "      <th>Aquatic Products, Other_food</th>\n",
       "      <th>Cereals - Excluding Beer_food</th>\n",
       "      <th>Eggs_food</th>\n",
       "      <th>Fish, Seafood_food</th>\n",
       "      <th>Fruits - Excluding Wine_food</th>\n",
       "      <th>Meat_food</th>\n",
       "      <th>...</th>\n",
       "      <th>Vegetables</th>\n",
       "      <th>Vegetal Products</th>\n",
       "      <th>Obesity</th>\n",
       "      <th>Undernourished</th>\n",
       "      <th>Confirmed</th>\n",
       "      <th>Deaths</th>\n",
       "      <th>Recovered</th>\n",
       "      <th>Active</th>\n",
       "      <th>Population</th>\n",
       "      <th>Unit (all except Population)</th>\n",
       "    </tr>\n",
       "  </thead>\n",
       "  <tbody>\n",
       "    <tr>\n",
       "      <td>0</td>\n",
       "      <td>Belgium</td>\n",
       "      <td>5.3730</td>\n",
       "      <td>0.8559</td>\n",
       "      <td>17.7279</td>\n",
       "      <td>0.0010</td>\n",
       "      <td>6.6704</td>\n",
       "      <td>0.6487</td>\n",
       "      <td>1.1325</td>\n",
       "      <td>4.1623</td>\n",
       "      <td>3.2370</td>\n",
       "      <td>...</td>\n",
       "      <td>0.2982</td>\n",
       "      <td>23.2622</td>\n",
       "      <td>24.5</td>\n",
       "      <td>&lt;2.5</td>\n",
       "      <td>0.534954</td>\n",
       "      <td>0.084936</td>\n",
       "      <td>0.147853</td>\n",
       "      <td>0.302164</td>\n",
       "      <td>11458000.0</td>\n",
       "      <td>%</td>\n",
       "    </tr>\n",
       "    <tr>\n",
       "      <td>1</td>\n",
       "      <td>United Kingdom</td>\n",
       "      <td>5.2632</td>\n",
       "      <td>0.2754</td>\n",
       "      <td>18.8798</td>\n",
       "      <td>0.0006</td>\n",
       "      <td>6.5412</td>\n",
       "      <td>0.6210</td>\n",
       "      <td>1.0911</td>\n",
       "      <td>4.9551</td>\n",
       "      <td>4.4181</td>\n",
       "      <td>...</td>\n",
       "      <td>0.2127</td>\n",
       "      <td>24.1332</td>\n",
       "      <td>29.5</td>\n",
       "      <td>&lt;2.5</td>\n",
       "      <td>0.467793</td>\n",
       "      <td>0.065288</td>\n",
       "      <td>0.002041</td>\n",
       "      <td>0.400464</td>\n",
       "      <td>66833000.0</td>\n",
       "      <td>%</td>\n",
       "    </tr>\n",
       "    <tr>\n",
       "      <td>2</td>\n",
       "      <td>Spain</td>\n",
       "      <td>5.3152</td>\n",
       "      <td>0.2357</td>\n",
       "      <td>18.3382</td>\n",
       "      <td>0.0011</td>\n",
       "      <td>6.0548</td>\n",
       "      <td>0.7321</td>\n",
       "      <td>2.2646</td>\n",
       "      <td>4.8332</td>\n",
       "      <td>5.3456</td>\n",
       "      <td>...</td>\n",
       "      <td>0.2611</td>\n",
       "      <td>30.4731</td>\n",
       "      <td>27.1</td>\n",
       "      <td>&lt;2.5</td>\n",
       "      <td>0.528477</td>\n",
       "      <td>0.060211</td>\n",
       "      <td>0.319453</td>\n",
       "      <td>0.148814</td>\n",
       "      <td>47073000.0</td>\n",
       "      <td>%</td>\n",
       "    </tr>\n",
       "    <tr>\n",
       "      <td>3</td>\n",
       "      <td>Italy</td>\n",
       "      <td>3.1892</td>\n",
       "      <td>0.2834</td>\n",
       "      <td>19.0329</td>\n",
       "      <td>0.0005</td>\n",
       "      <td>8.5417</td>\n",
       "      <td>0.6247</td>\n",
       "      <td>1.5816</td>\n",
       "      <td>6.0207</td>\n",
       "      <td>4.2963</td>\n",
       "      <td>...</td>\n",
       "      <td>0.2277</td>\n",
       "      <td>28.1306</td>\n",
       "      <td>22.9</td>\n",
       "      <td>&lt;2.5</td>\n",
       "      <td>0.398227</td>\n",
       "      <td>0.057566</td>\n",
       "      <td>0.313018</td>\n",
       "      <td>0.027643</td>\n",
       "      <td>60345000.0</td>\n",
       "      <td>%</td>\n",
       "    </tr>\n",
       "    <tr>\n",
       "      <td>4</td>\n",
       "      <td>Sweden</td>\n",
       "      <td>4.4232</td>\n",
       "      <td>1.0442</td>\n",
       "      <td>24.0627</td>\n",
       "      <td>0.0000</td>\n",
       "      <td>6.1923</td>\n",
       "      <td>0.7266</td>\n",
       "      <td>1.7659</td>\n",
       "      <td>3.5405</td>\n",
       "      <td>4.1476</td>\n",
       "      <td>...</td>\n",
       "      <td>0.2296</td>\n",
       "      <td>21.5852</td>\n",
       "      <td>22.1</td>\n",
       "      <td>&lt;2.5</td>\n",
       "      <td>0.633259</td>\n",
       "      <td>0.051332</td>\n",
       "      <td>0.000000</td>\n",
       "      <td>0.581927</td>\n",
       "      <td>10286000.0</td>\n",
       "      <td>%</td>\n",
       "    </tr>\n",
       "    <tr>\n",
       "      <td>...</td>\n",
       "      <td>...</td>\n",
       "      <td>...</td>\n",
       "      <td>...</td>\n",
       "      <td>...</td>\n",
       "      <td>...</td>\n",
       "      <td>...</td>\n",
       "      <td>...</td>\n",
       "      <td>...</td>\n",
       "      <td>...</td>\n",
       "      <td>...</td>\n",
       "      <td>...</td>\n",
       "      <td>...</td>\n",
       "      <td>...</td>\n",
       "      <td>...</td>\n",
       "      <td>...</td>\n",
       "      <td>...</td>\n",
       "      <td>...</td>\n",
       "      <td>...</td>\n",
       "      <td>...</td>\n",
       "      <td>...</td>\n",
       "      <td>...</td>\n",
       "    </tr>\n",
       "    <tr>\n",
       "      <td>165</td>\n",
       "      <td>New Caledonia</td>\n",
       "      <td>5.0363</td>\n",
       "      <td>0.0821</td>\n",
       "      <td>11.7818</td>\n",
       "      <td>0.0804</td>\n",
       "      <td>8.5840</td>\n",
       "      <td>0.7494</td>\n",
       "      <td>2.0361</td>\n",
       "      <td>5.5855</td>\n",
       "      <td>5.8687</td>\n",
       "      <td>...</td>\n",
       "      <td>0.1887</td>\n",
       "      <td>27.7282</td>\n",
       "      <td>NaN</td>\n",
       "      <td>7.1</td>\n",
       "      <td>NaN</td>\n",
       "      <td>NaN</td>\n",
       "      <td>NaN</td>\n",
       "      <td>NaN</td>\n",
       "      <td>291000.0</td>\n",
       "      <td>%</td>\n",
       "    </tr>\n",
       "    <tr>\n",
       "      <td>166</td>\n",
       "      <td>Samoa</td>\n",
       "      <td>1.4236</td>\n",
       "      <td>0.2262</td>\n",
       "      <td>11.1630</td>\n",
       "      <td>0.1236</td>\n",
       "      <td>3.6768</td>\n",
       "      <td>0.1314</td>\n",
       "      <td>2.7788</td>\n",
       "      <td>10.7845</td>\n",
       "      <td>5.7993</td>\n",
       "      <td>...</td>\n",
       "      <td>0.0431</td>\n",
       "      <td>28.3194</td>\n",
       "      <td>45.5</td>\n",
       "      <td>2.7</td>\n",
       "      <td>NaN</td>\n",
       "      <td>NaN</td>\n",
       "      <td>NaN</td>\n",
       "      <td>NaN</td>\n",
       "      <td>199000.0</td>\n",
       "      <td>%</td>\n",
       "    </tr>\n",
       "    <tr>\n",
       "      <td>167</td>\n",
       "      <td>Solomon Islands</td>\n",
       "      <td>0.8298</td>\n",
       "      <td>0.1038</td>\n",
       "      <td>3.8504</td>\n",
       "      <td>0.0121</td>\n",
       "      <td>9.0233</td>\n",
       "      <td>0.0826</td>\n",
       "      <td>2.2840</td>\n",
       "      <td>3.2798</td>\n",
       "      <td>0.8897</td>\n",
       "      <td>...</td>\n",
       "      <td>0.0785</td>\n",
       "      <td>36.3351</td>\n",
       "      <td>20.5</td>\n",
       "      <td>8.9</td>\n",
       "      <td>NaN</td>\n",
       "      <td>NaN</td>\n",
       "      <td>NaN</td>\n",
       "      <td>NaN</td>\n",
       "      <td>699000.0</td>\n",
       "      <td>%</td>\n",
       "    </tr>\n",
       "    <tr>\n",
       "      <td>168</td>\n",
       "      <td>Turkmenistan</td>\n",
       "      <td>0.5038</td>\n",
       "      <td>0.3373</td>\n",
       "      <td>16.0611</td>\n",
       "      <td>0.0000</td>\n",
       "      <td>14.8029</td>\n",
       "      <td>0.5139</td>\n",
       "      <td>0.2137</td>\n",
       "      <td>4.1441</td>\n",
       "      <td>4.3767</td>\n",
       "      <td>...</td>\n",
       "      <td>0.4459</td>\n",
       "      <td>17.3085</td>\n",
       "      <td>17.5</td>\n",
       "      <td>5.4</td>\n",
       "      <td>NaN</td>\n",
       "      <td>NaN</td>\n",
       "      <td>NaN</td>\n",
       "      <td>NaN</td>\n",
       "      <td>5942000.0</td>\n",
       "      <td>%</td>\n",
       "    </tr>\n",
       "    <tr>\n",
       "      <td>169</td>\n",
       "      <td>Vanuatu</td>\n",
       "      <td>0.2424</td>\n",
       "      <td>0.0793</td>\n",
       "      <td>6.6244</td>\n",
       "      <td>0.0000</td>\n",
       "      <td>6.4102</td>\n",
       "      <td>0.1875</td>\n",
       "      <td>2.1649</td>\n",
       "      <td>5.8103</td>\n",
       "      <td>2.7466</td>\n",
       "      <td>...</td>\n",
       "      <td>0.1424</td>\n",
       "      <td>35.0847</td>\n",
       "      <td>23.5</td>\n",
       "      <td>7.2</td>\n",
       "      <td>NaN</td>\n",
       "      <td>NaN</td>\n",
       "      <td>NaN</td>\n",
       "      <td>NaN</td>\n",
       "      <td>313000.0</td>\n",
       "      <td>%</td>\n",
       "    </tr>\n",
       "  </tbody>\n",
       "</table>\n",
       "<p>170 rows × 78 columns</p>\n",
       "</div>"
      ],
      "text/plain": [
       "             Country  Alcoholic Beverages_food  Animal fats_food  \\\n",
       "0            Belgium                    5.3730            0.8559   \n",
       "1     United Kingdom                    5.2632            0.2754   \n",
       "2              Spain                    5.3152            0.2357   \n",
       "3              Italy                    3.1892            0.2834   \n",
       "4             Sweden                    4.4232            1.0442   \n",
       "..               ...                       ...               ...   \n",
       "165    New Caledonia                    5.0363            0.0821   \n",
       "166            Samoa                    1.4236            0.2262   \n",
       "167  Solomon Islands                    0.8298            0.1038   \n",
       "168     Turkmenistan                    0.5038            0.3373   \n",
       "169          Vanuatu                    0.2424            0.0793   \n",
       "\n",
       "     Animal Products_food  Aquatic Products, Other_food  \\\n",
       "0                 17.7279                        0.0010   \n",
       "1                 18.8798                        0.0006   \n",
       "2                 18.3382                        0.0011   \n",
       "3                 19.0329                        0.0005   \n",
       "4                 24.0627                        0.0000   \n",
       "..                    ...                           ...   \n",
       "165               11.7818                        0.0804   \n",
       "166               11.1630                        0.1236   \n",
       "167                3.8504                        0.0121   \n",
       "168               16.0611                        0.0000   \n",
       "169                6.6244                        0.0000   \n",
       "\n",
       "     Cereals - Excluding Beer_food  Eggs_food  Fish, Seafood_food  \\\n",
       "0                           6.6704     0.6487              1.1325   \n",
       "1                           6.5412     0.6210              1.0911   \n",
       "2                           6.0548     0.7321              2.2646   \n",
       "3                           8.5417     0.6247              1.5816   \n",
       "4                           6.1923     0.7266              1.7659   \n",
       "..                             ...        ...                 ...   \n",
       "165                         8.5840     0.7494              2.0361   \n",
       "166                         3.6768     0.1314              2.7788   \n",
       "167                         9.0233     0.0826              2.2840   \n",
       "168                        14.8029     0.5139              0.2137   \n",
       "169                         6.4102     0.1875              2.1649   \n",
       "\n",
       "     Fruits - Excluding Wine_food  Meat_food  ...  Vegetables  \\\n",
       "0                          4.1623     3.2370  ...      0.2982   \n",
       "1                          4.9551     4.4181  ...      0.2127   \n",
       "2                          4.8332     5.3456  ...      0.2611   \n",
       "3                          6.0207     4.2963  ...      0.2277   \n",
       "4                          3.5405     4.1476  ...      0.2296   \n",
       "..                            ...        ...  ...         ...   \n",
       "165                        5.5855     5.8687  ...      0.1887   \n",
       "166                       10.7845     5.7993  ...      0.0431   \n",
       "167                        3.2798     0.8897  ...      0.0785   \n",
       "168                        4.1441     4.3767  ...      0.4459   \n",
       "169                        5.8103     2.7466  ...      0.1424   \n",
       "\n",
       "     Vegetal Products  Obesity  Undernourished  Confirmed    Deaths  \\\n",
       "0             23.2622     24.5            <2.5   0.534954  0.084936   \n",
       "1             24.1332     29.5            <2.5   0.467793  0.065288   \n",
       "2             30.4731     27.1            <2.5   0.528477  0.060211   \n",
       "3             28.1306     22.9            <2.5   0.398227  0.057566   \n",
       "4             21.5852     22.1            <2.5   0.633259  0.051332   \n",
       "..                ...      ...             ...        ...       ...   \n",
       "165           27.7282      NaN             7.1        NaN       NaN   \n",
       "166           28.3194     45.5             2.7        NaN       NaN   \n",
       "167           36.3351     20.5             8.9        NaN       NaN   \n",
       "168           17.3085     17.5             5.4        NaN       NaN   \n",
       "169           35.0847     23.5             7.2        NaN       NaN   \n",
       "\n",
       "     Recovered    Active  Population  Unit (all except Population)  \n",
       "0     0.147853  0.302164  11458000.0                             %  \n",
       "1     0.002041  0.400464  66833000.0                             %  \n",
       "2     0.319453  0.148814  47073000.0                             %  \n",
       "3     0.313018  0.027643  60345000.0                             %  \n",
       "4     0.000000  0.581927  10286000.0                             %  \n",
       "..         ...       ...         ...                           ...  \n",
       "165        NaN       NaN    291000.0                             %  \n",
       "166        NaN       NaN    199000.0                             %  \n",
       "167        NaN       NaN    699000.0                             %  \n",
       "168        NaN       NaN   5942000.0                             %  \n",
       "169        NaN       NaN    313000.0                             %  \n",
       "\n",
       "[170 rows x 78 columns]"
      ]
     },
     "execution_count": 164,
     "metadata": {},
     "output_type": "execute_result"
    }
   ],
   "source": [
    "# Urutkan (sorting) dan print hasil sorting\n",
    "# Code here\n",
    "death = df3.sort_values(['Deaths'], axis=0, ascending=False)\n",
    "\n",
    "death.reset_index(inplace=True)\n",
    "death.drop('index', axis=1, inplace=True)\n",
    "death"
   ]
  },
  {
   "cell_type": "code",
   "execution_count": 191,
   "metadata": {
    "colab": {},
    "colab_type": "code",
    "id": "FnohMVQwP8Og"
   },
   "outputs": [
    {
     "data": {
      "text/plain": [
       "89    0.001026\n",
       "Name: Deaths, dtype: float64"
      ]
     },
     "execution_count": 191,
     "metadata": {},
     "output_type": "execute_result"
    }
   ],
   "source": [
    "# Urutan ke berapakah Indonesia\n",
    "# Code here\n",
    "c = death['Country'] == 'Indonesia'\n",
    "death[(c)]['Deaths']\n"
   ]
  },
  {
   "cell_type": "code",
   "execution_count": 192,
   "metadata": {
    "colab": {},
    "colab_type": "code",
    "id": "OAzky41S6eAm"
   },
   "outputs": [
    {
     "name": "stdout",
     "output_type": "stream",
     "text": [
      "Jumlah yang meninggal di Indonesia ada 0.0010260078% dari jumlah populasi.\n",
      "Jumlah yang meninggal di Indonesia ada 11756.0 orang.\n"
     ]
    }
   ],
   "source": [
    "# Berapa persen jumlah kematian di Indonesia? Berapa Jumlahnya?\n",
    "# Code here\n",
    "coun = c\n",
    "\n",
    "meninggal_persen = death[(c)]['Deaths'].values[0]\n",
    "meninggal = meninggal_persen * death['Population'].values[0]\n",
    "\n",
    "print(f'Jumlah yang meninggal di Indonesia ada {round(meninggal_persen, 10)}% dari jumlah populasi.') # 10 digit\n",
    "print(f'Jumlah yang meninggal di Indonesia ada {round(meninggal)} orang.')"
   ]
  },
  {
   "cell_type": "markdown",
   "metadata": {
    "colab_type": "text",
    "id": "Ur4P17eNVIDU"
   },
   "source": [
    "---"
   ]
  },
  {
   "cell_type": "markdown",
   "metadata": {
    "colab_type": "text",
    "id": "zOvEqSmuUsXy"
   },
   "source": [
    "# Soal 4: Binning, Grouping, dan Aggregating data"
   ]
  },
  {
   "cell_type": "markdown",
   "metadata": {
    "colab_type": "text",
    "id": "mLxskYLCTYFT"
   },
   "source": [
    "Lakukan binning pada kolom terkonfirmasi (Confirmed) COVID-19 dari DataFrame df_fat menjadi 5 bagian (q=5). Teman-teman dapat menggunakan fungsi qcut untuk melakukan bininng ini. Masukan data hasil binning tersebut menjadi kolom baru pada DataFrame df_fat. Beri nama kolom tersebut dengan 'Confirmed Category'. Berikan label 'Sangat Tidak Banyak', 'Tidak Banyak', 'Sedang', 'Cukup Banyak', 'Sangat Banyak'.\n",
    "\n",
    "Baca dokumentasi berikut untuk fungsi qcut : https://pandas.pydata.org/pandas-docs/stable/reference/api/pandas.qcut.html\n",
    "\n",
    "Kemudian lakukan perintah-perintah berikut:\n",
    "- Buat DataFrame baru yang berisi data grouping berdasarkan kolom hasil bininng atau kolom 'Confirmed Category'. \n",
    "- Lakukan grouping hanya pada kolom 'Obesity', 'Meat', 'Fruits - Excluding Wine', 'Fish, Seafood', 'Animal Products', 'Vegetal Products' saja.\n",
    "- Kemudian aggregate dengan fungsi mean. (df_baru = df_fat.groupby(...).mean())\n",
    "- Save DataFrame hasil binning, grouping, dan aggregating ke dalam file csv."
   ]
  },
  {
   "cell_type": "code",
   "execution_count": null,
   "metadata": {
    "colab": {},
    "colab_type": "code",
    "id": "l8o8Gu2If9N6"
   },
   "outputs": [],
   "source": [
    "# Lakukan binning pada kolom terkonfirmasi untuk DataFrame df_fat\n",
    "labels = ['Sangat Tidak Banyak', 'Tidak Banyak', 'Sedang', 'Cukup Banyak', 'Sangat Banyak']\n",
    "\n",
    "# Code here\n",
    "df_fat['Confirmed Category'] = ..."
   ]
  },
  {
   "cell_type": "code",
   "execution_count": null,
   "metadata": {
    "colab": {},
    "colab_type": "code",
    "id": "wH_Twtg9gLHZ"
   },
   "outputs": [],
   "source": [
    "# Lakukan grouping pada kolom hasil binning ('Confirmed Category'), kemudian aggregate menggunakan fungsi mean\n",
    "cols = ['Obesity', 'Meat', 'Fruits - Excluding Wine', 'Fish, Seafood', 'Animal Products', 'Vegetal Products']\n",
    "\n",
    "# Code here\n",
    "groupby_confirmed = ...\n",
    "groupby_confirmed"
   ]
  },
  {
   "cell_type": "markdown",
   "metadata": {
    "colab_type": "text",
    "id": "uoPr2JSfwi5x"
   },
   "source": [
    "Expected output:\n",
    "![Expected Output:](https://drive.google.com/uc?id=1jw1uGaSHaKlY9ILghmTTlO9NqhQpq8Ad)"
   ]
  },
  {
   "cell_type": "code",
   "execution_count": null,
   "metadata": {
    "colab": {},
    "colab_type": "code",
    "id": "ylCxhoZIhQ1J"
   },
   "outputs": [],
   "source": [
    "# Save DataFrame hasil binning, grouping, dan aggregating\n",
    "\n",
    "groupby_confirmed.to_csv('groupby_confirmed.csv')"
   ]
  },
  {
   "cell_type": "markdown",
   "metadata": {
    "colab_type": "text",
    "id": "QXt4J6-ki7yV"
   },
   "source": [
    "---"
   ]
  },
  {
   "cell_type": "markdown",
   "metadata": {
    "colab_type": "text",
    "id": "KYkVllUIi9gk"
   },
   "source": [
    "# Soal 5: Bar plot"
   ]
  },
  {
   "cell_type": "markdown",
   "metadata": {
    "colab_type": "text",
    "id": "oW_a_78Fjkbx"
   },
   "source": [
    "Gunakan data grouping pada soal sebelumnya untuk melakukan visualisasi. Jika kalian tidak dapat menyelesaikan soal tersebut, maka silahkan [download](https://drive.google.com/uc?export=download&id=1l5wFAKKShPQQvIe0rQ7C4Xog9tt_WDN0) data berikut yang merupakan hasil dari data grouping soal 4.\n",
    "\n",
    "Normalisasi data hasil grouping tersebut dengan rumus min-max normalisasi seperti rumus berikut ini. Kemudian buatlah grouping Visualization dengan berplot, visualisasikan data column 'Obesity', 'Fruits - Excluding Wine', 'Fish, Seafood', 'Animal Products' dan 'Vegetal Products'. "
   ]
  },
  {
   "cell_type": "markdown",
   "metadata": {
    "colab_type": "text",
    "id": "884pC4nnWZVg"
   },
   "source": [
    "\\begin{equation*}\n",
    " X_{norm} = \\dfrac{X - X_{min}}{X_{max} - X_{min}}\n",
    "\\end{equation*}\n"
   ]
  },
  {
   "cell_type": "code",
   "execution_count": null,
   "metadata": {
    "colab": {},
    "colab_type": "code",
    "id": "-5tpx0PNlUQx"
   },
   "outputs": [],
   "source": [
    "# Gunakan DataFrame hasil grouping soal 4 atau read data hasil download jika tidak dapat mengerjakan soal 4\n",
    "df = groupby_confirmed\n",
    "\n",
    "# Atau\n",
    "\n",
    "df = pd.read_csv('groupby_confirmed.csv').set_index('Confirmed Category')\n",
    "\n",
    "# Lihat df dan pastikan sesuai dengan expected output pada soal 4\n",
    "display(df)"
   ]
  },
  {
   "cell_type": "code",
   "execution_count": null,
   "metadata": {
    "colab": {},
    "colab_type": "code",
    "id": "nokTOpibmhD0"
   },
   "outputs": [],
   "source": [
    "# Lakukan normalisasi pada DataFrame df\n",
    "# Code here\n",
    "df_norm = \n",
    "\n",
    "# Lihat df_norm dan pastikan sesuai dengan expected output\n",
    "display(df_norm)"
   ]
  },
  {
   "cell_type": "markdown",
   "metadata": {
    "colab_type": "text",
    "id": "37rjPjbanRNY"
   },
   "source": [
    "Expected output:\n",
    "![Expected Output:](https://drive.google.com/uc?id=1BFzcOFHbZMnw0wqbwl8K6IEiVmurqG84)"
   ]
  },
  {
   "cell_type": "code",
   "execution_count": null,
   "metadata": {
    "colab": {},
    "colab_type": "code",
    "id": "lMzOW9t7nU-I"
   },
   "outputs": [],
   "source": [
    "# Buat bar plot dari df_norm sesuai dengan expected output\n",
    "# Code here\n",
    "\n",
    "\n",
    "# Untuk menambahkan label di atas barplot lihat https://matplotlib.org/3.1.1/gallery/lines_bars_and_markers/barchart.html\n",
    "\n",
    "# fig.legend()\n",
    "# plt.show()"
   ]
  },
  {
   "cell_type": "markdown",
   "metadata": {
    "colab_type": "text",
    "id": "FIul1KSeoMsh"
   },
   "source": [
    "Expected output:\n",
    "![Expected Output:](https://drive.google.com/uc?id=11x5OMAB8mbZurD0qntxcwOcWYCQSegy8)\n"
   ]
  },
  {
   "cell_type": "markdown",
   "metadata": {
    "colab_type": "text",
    "id": "KZJq0YxNp7bM"
   },
   "source": [
    "---"
   ]
  },
  {
   "cell_type": "markdown",
   "metadata": {
    "colab_type": "text",
    "id": "LoJ9IXHBp890"
   },
   "source": [
    "# Soal 6: Scatter plot\n"
   ]
  },
  {
   "cell_type": "markdown",
   "metadata": {
    "colab_type": "text",
    "id": "5sQPxjyIrrkM"
   },
   "source": [
    "Buatlah visualisasi scatter plot dari df_food antara Supply Sayuran ('Vegetal Products') dan persentase terkonfirmasi ('Confirmed') COVID-19 sesuai expected output dengan ketentuan berikut:\n",
    "\n",
    "\n",
    "* Gunakan kolom persentase kematian ('Death') sebagai ukuran pointnya kalikan suatu angka yang cukup besar agar terlihat.\n",
    "    \n",
    "* Gunakan kolom persentase produk hewani ('Animal Products') sebagai warna point, berikan colormap 'viridis'."
   ]
  },
  {
   "cell_type": "code",
   "execution_count": null,
   "metadata": {
    "colab": {},
    "colab_type": "code",
    "id": "8-nxlX2zp8Lw"
   },
   "outputs": [],
   "source": [
    "fig, ax = plt.subplots(figsize=(18, 12))\n",
    "\n",
    "# Code here\n",
    "\n",
    "plt.show()"
   ]
  },
  {
   "cell_type": "markdown",
   "metadata": {
    "colab_type": "text",
    "id": "aBr40jb0uXSg"
   },
   "source": [
    "Expected output:\n",
    "![Expected Output:](https://drive.google.com/uc?id=1wJh3tfkPbrkf3_F73RW0kABBt_NO8q53)"
   ]
  }
 ],
 "metadata": {
  "colab": {
   "authorship_tag": "ABX9TyOIzMCQPPRhLt9bnYEJxo5m",
   "collapsed_sections": [],
   "name": "Quiz Pekan - 3.ipynb",
   "provenance": []
  },
  "kernelspec": {
   "display_name": "Python 3",
   "language": "python",
   "name": "python3"
  },
  "language_info": {
   "codemirror_mode": {
    "name": "ipython",
    "version": 3
   },
   "file_extension": ".py",
   "mimetype": "text/x-python",
   "name": "python",
   "nbconvert_exporter": "python",
   "pygments_lexer": "ipython3",
   "version": "3.7.4"
  }
 },
 "nbformat": 4,
 "nbformat_minor": 4
}
