{
 "cells": [
  {
   "cell_type": "code",
   "execution_count": 4,
   "metadata": {},
   "outputs": [],
   "source": [
    "import tweepy\n",
    "import re\n",
    "import pandas as pd\n",
    "import numpy as np\n",
    "import matplotlib.pyplot as plt\n",
    "import json\n",
    "\n",
    "consumer_key = \"E94DFtes8j5myDibhj4sfs0NA\"\n",
    "consumer_secret = \"f02atPbdvNHpaOyo5CzfKKDQidqY3JPdSDxTVEuL9Oi220RaZh\"\n",
    "access_token = \"358155084-9hyegtGt2qSXTw3OYa5vOdR27Zx9BECK40Z1QWay\"\n",
    "access_token_secret = \"qh8kdCttP4ciVAdYMU70NQmw9oFzapA6f5U3OCtgTg9W3\"\n",
    "\n",
    "auth = tweepy.OAuthHandler(consumer_key,consumer_secret)\n",
    "auth.set_access_token(access_token,access_token_secret)\n",
    "# api = tweepy.API(auth)\n",
    "api = tweepy.API(auth, wait_on_rate_limit=True)"
   ]
  },
  {
   "cell_type": "markdown",
   "metadata": {},
   "source": [
    "1. Ceritakan kembali apa yang kalian ketahui tentang JSON\n",
    "\n",
    "JSON adalah singkatan dari Java Script Object Notation, sebuah format penyimpanan yang ideal untuk data berstruktur hirarki. \n",
    "JSON. Pada python JSON memiliki kemiripan dengan dictionary karena memiliki dua parameter utama, yaitu key dan value.\n"
   ]
  },
  {
   "cell_type": "code",
   "execution_count": 5,
   "metadata": {},
   "outputs": [
    {
     "data": {
      "text/html": [
       "<div>\n",
       "<style scoped>\n",
       "    .dataframe tbody tr th:only-of-type {\n",
       "        vertical-align: middle;\n",
       "    }\n",
       "\n",
       "    .dataframe tbody tr th {\n",
       "        vertical-align: top;\n",
       "    }\n",
       "\n",
       "    .dataframe thead th {\n",
       "        text-align: right;\n",
       "    }\n",
       "</style>\n",
       "<table border=\"1\" class=\"dataframe\">\n",
       "  <thead>\n",
       "    <tr style=\"text-align: right;\">\n",
       "      <th></th>\n",
       "      <th>user</th>\n",
       "      <th>lokasi</th>\n",
       "      <th>tweet</th>\n",
       "    </tr>\n",
       "  </thead>\n",
       "  <tbody>\n",
       "    <tr>\n",
       "      <td>0</td>\n",
       "      <td>linetoday</td>\n",
       "      <td></td>\n",
       "      <td>Setelah seluruh kegiatannya disetop Satgas Was...</td>\n",
       "    </tr>\n",
       "    <tr>\n",
       "      <td>1</td>\n",
       "      <td>silenceman16</td>\n",
       "      <td></td>\n",
       "      <td>Reaction review pong kitchen channel pemersatu...</td>\n",
       "    </tr>\n",
       "    <tr>\n",
       "      <td>2</td>\n",
       "      <td>soupjahe</td>\n",
       "      <td>jjh's mine</td>\n",
       "      <td>HAH JOUSKA SIAPA</td>\n",
       "    </tr>\n",
       "    <tr>\n",
       "      <td>3</td>\n",
       "      <td>nrkhlfah</td>\n",
       "      <td>neverland</td>\n",
       "      <td>gegara ceo jouska gue baru tau ada univ namany...</td>\n",
       "    </tr>\n",
       "    <tr>\n",
       "      <td>4</td>\n",
       "      <td>imLTF</td>\n",
       "      <td>Indonesia</td>\n",
       "      <td>OALAH kasus 2017 wk gue ga bacaa Tahun segitu ...</td>\n",
       "    </tr>\n",
       "  </tbody>\n",
       "</table>\n",
       "</div>"
      ],
      "text/plain": [
       "           user      lokasi                                              tweet\n",
       "0     linetoday              Setelah seluruh kegiatannya disetop Satgas Was...\n",
       "1  silenceman16              Reaction review pong kitchen channel pemersatu...\n",
       "2      soupjahe  jjh's mine                                   HAH JOUSKA SIAPA\n",
       "3      nrkhlfah   neverland  gegara ceo jouska gue baru tau ada univ namany...\n",
       "4         imLTF   Indonesia  OALAH kasus 2017 wk gue ga bacaa Tahun segitu ..."
      ]
     },
     "execution_count": 5,
     "metadata": {},
     "output_type": "execute_result"
    }
   ],
   "source": [
    "search_words = \"jouska\"\n",
    "date_since = \"2020-07-25\"\n",
    "new_search = search_words + \" -filter:retweets\"\n",
    "\n",
    "tweets = tweepy.Cursor(api.search,\n",
    "        q=new_search,\n",
    "        lang=\"id\",\n",
    "        since=date_since).items(50)\n",
    "\n",
    "items = []\n",
    "for tweet in tweets:\n",
    "    item = []\n",
    "    item.append (tweet.user.screen_name)\n",
    "    item.append (tweet.user.location)\n",
    "    item.append (' '.join(re.sub(\"(@[A-Za-z0-9]+)|([^0-9A-Za-z \\t])|(\\w+:\\/\\/\\S+)\", \" \", tweet.text).split()))\n",
    "    items.append(item)\n",
    "hasil = pd.DataFrame(data=items, columns=['user','lokasi','tweet'])\n",
    "\n",
    "hasil.head()"
   ]
  },
  {
   "cell_type": "code",
   "execution_count": 6,
   "metadata": {},
   "outputs": [
    {
     "data": {
      "text/plain": [
       "'{\"columns\":[\"user\",\"lokasi\",\"tweet\"],\"index\":[0,1,2,3,4,5,6,7,8,9,10,11,12,13,14,15,16,17,18,19,20,21,22,23,24,25,26,27,28,29,30,31,32,33,34,35,36,37,38,39,40,41,42,43,44,45,46,47,48,49],\"data\":[[\"linetoday\",\"\",\"Setelah seluruh kegiatannya disetop Satgas Waspada Investasi OJK serta situs dan media sosialnya diblokir kini wa\"],[\"silenceman16\",\"\",\"Reaction review pong kitchen channel pemersatu bangsa yang lagi viral yang katanya bikin cowok2 di indonesia pada\"],[\"soupjahe\",\"jjh\\'s mine\",\"HAH JOUSKA SIAPA\"],[\"nrkhlfah\",\"neverland\",\"gegara ceo jouska gue baru tau ada univ namanya ma chung\"],[\"imLTF\",\"Indonesia\",\"OALAH kasus 2017 wk gue ga bacaa Tahun segitu kan kayaknya jouska baru2 terkenal ya\"],[\"vanillablish\",\"\",\"nama asli ceonya jouska bukan aakar abiyasa tapi ahmad fidyani ini lucu banget\"],[\"muthianadir\",\"World Citizen\",\"Gue follow jouska sih di IG tapi ga pernah kayak bener2 ngikutin post or highlight nya Entah kenapa gue tuh ga ga\"],[\"muthianadir\",\"World Citizen\",\"Baru banget ngikutin rame2 nya kasus Jouska Kepo di Twitter lebih lengkap ternyata daripada di Instagram\"],[\"urasawachamois\",\"Dreamland \",\"rame di timeline tp krn ketinggalan jauh jdi bingung ngikutin Jouska\"],[\"surrealiss\",\"Bogor, Jawa Barat\",\"Udah denger rekaman ceo jouska belum\"],[\"dariyangjahat\",\"Jakarta-Depok\",\"Selain mengajarkan pentingnya perncanaan finansial dan manfaat investasi Jouska jg mengajarkan pentingnya ekstra h\"],[\"vicevirteu\",\"\",\"Wew ternyata jouska dan CEOnya seproblematic itu ya\"],[\"nadiaikarmdn\",\"\",\"Dari dulu w ngomongnya josuka josuka aja baru sadar ternyata yg bener jouska wkwkwk\"],[\"rebahancuan\",\"\",\"UseYourBrain Kalau sudah tahu harga terus turun lalu hanya didiamkan saja Celaka Ilustrasinya mending jual d\"],[\"pritada\",\"Indonesia\",\"Kok pusing dengernya Itu jouska Saha sih\"],[\"gesercuy\",\"Malang, Jawa Timur\",\"Dibalik Ceo Jouska yang rame itu aku dan tim termasuk an emang jualan tanaman yang ada Aakar nya kiri\"],[\"hayumelunccur\",\"\",\"ceo jouska siapaa\"],[\"cindercxlla\",\"bandung\",\"ada apa dengan jouska\"],[\"vokypurnanita\",\"\",\"Dokter aan aakar dari tumbangnya Jouska\"],[\"SkyEarth82\",\"\",\"gsp JOUSKA tlh sgt jauh melampaui peran Financial Planner Financial Planner yg melakukan kegiatan yg sama\"],[\"nirmalamunir\",\"DKI Jakarta\",\"Ownernya jouska berantem sama client pengg\"],[\"achmadhabibias\",\"\",\"Kasus jouska akhirnya mulai kebongkar satu persatu damn twitter emang magic banget kalo masalah spill the tea\"],[\"safflowerrs\",\"\",\"CEO Jouska dari Ma Chung ExaONCE ExaBFF\"],[\"Ramastya\",\"Jakarta Capital Region, Indone\",\"Dengan tidak adanya jouska membuat teman teman di ig gak bisa repost storynya yang kadang mengerikan untuk jiwa boros saya fyuh\"],[\"mbelgedees\",\"\",\"Daripada stress lebih baik ke lapangan denggung nonton dangdut sambil teriak bukak sithik jouska\"],[\"ini_armand\",\"Jakarta Capital Region, Indone\",\"Sekarang yg dibahas malah nama CEO jouska yang aneh itu Wakakakak\"],[\"sharkpeare\",\"75 Drayton Park\",\"satu per satu bangkenya ceo jouska kebongkar\"],[\"nrlika15\",\"Hidden Paradise of Yogyakarta\",\"Netijen selalu semangat utk menguliti Aakar masalah Jouska\"],[\"ini_armand\",\"Jakarta Capital Region, Indone\",\"Ahaha Kebongkar juga busuk2nya jouska Dulu kalo influencing udah kaya yg paling bener dewean aja Emang agak\"],[\"c_ayu_ap\",\"\",\"Orang orang bilang ttg kerugian yg ditimbulkan jouska ya namanya jg invest saham rugi banyak udah biasa kalo\"],[\"ibnux\",\"Kota Serang, Banten\",\"Konsep Jouska ini kebal hukum yah\"],[\"kumparan\",\"\",\"Warga net ramai memperbincangkan CEO Jouska Aakar Abyasa\"],[\"cuapcuapapapp\",\"Tangerang \",\"ceo jouska ngomel pake aksen india nih\"],[\"pldmrzq\",\"smoking area\",\"aakar jouska kalo saya bilang dasar penipu kamu playing victim ini ujian dari tuhan ya\"],[\"andrias98\",\"\\\\u00dcT: -6.276814,106.826234\",\"Baru tau arti Jouska di psikologi\"],[\"dndty\",\"\",\"raissair Sebeneenya dia ngebangun nya juga udh salah dari awal jd consultant finance gamau daftar sama ojk teru\"],[\"sushiaftergym\",\"Jakarta Selatan, DKI Jakarta\",\"Peetanyaannya Orang itu akan tulis Jouska di CV nya ga ya Kalo engga gap year selama di Jouska diisi apa\"],[\"Mysukmana\",\"Surakarta, Jawa Tengah\",\"Apa apa kalau udah berhubungan dengan duit itu memang sensitif Apalagi investasi gak jelas kayak CEO Jouska Suar\"],[\"irawatiputeri\",\"Your darkest hour!\",\"ada rekaman CEO Jouska marah2\"],[\"reva09\",\"\",\"Lg ngrasa sumpek bgt trs liat kondisi CEO Jouska lgsg brucap Alhamdulillah\"],[\"deandlcy\",\"Indonesia\",\"astaga Ma Chung kok jadi terkenal gara gara jouska\"],[\"rebahancuan\",\"\",\"sehingga tidak perlu waktu selama itu Cukup Jelas Dan yaa dari banyak Thread yang beredar seputar\"],[\"cottonbeingx\",\"\",\"kalo kata ceo jouska sih ask your brain\"],[\"eyesonscreen\",\"\",\"Gimana kalo CEO jouska ini debat sama Gilang Bungkus\"],[\"Tapak_kering\",\"Kuala Lumpur Federal Territory\",\"kadang lebih bersyukur jadi milenial miskin kagak di giring satpam CEO Jouska\"],[\"youonev\",\"\",\"inget banget gua pernah komen nanti kalo saya udah sukses saya bakal jadi klien jouska HAHAHHAHAHHAHA tp emang b\"],[\"ngupitam\",\"\",\"Tap tap tapiiiiiiii dok twit terakhir Jouska tentang biaya persalinan loh\"],[\"JoshuaKiolol\",\"New York, NY\",\"Lagi kebayang gimana kalo CEO Jouska berantem sama pacarnya Maudy Ayunda berantem pake bhs engres begini siapa yg\"],[\"jadiwaktuitu\",\"\",\"alhamdulillah ada aja orderan masuk bismillah nnti bisa lahiran sesuai financial planning kyk jouska\"],[\"yanuardib\",\"\",\"Baru pengen buka tweet lagi krn kmrn takut berita corona Terus sekarang takut berita jouska maki\"]]}'"
      ]
     },
     "execution_count": 6,
     "metadata": {},
     "output_type": "execute_result"
    }
   ],
   "source": [
    "json_data = hasil.to_json(orient='split')\n",
    "json_data"
   ]
  },
  {
   "cell_type": "code",
   "execution_count": null,
   "metadata": {},
   "outputs": [],
   "source": []
  }
 ],
 "metadata": {
  "kernelspec": {
   "display_name": "Python 3",
   "language": "python",
   "name": "python3"
  },
  "language_info": {
   "codemirror_mode": {
    "name": "ipython",
    "version": 3
   },
   "file_extension": ".py",
   "mimetype": "text/x-python",
   "name": "python",
   "nbconvert_exporter": "python",
   "pygments_lexer": "ipython3",
   "version": "3.7.4"
  }
 },
 "nbformat": 4,
 "nbformat_minor": 4
}
