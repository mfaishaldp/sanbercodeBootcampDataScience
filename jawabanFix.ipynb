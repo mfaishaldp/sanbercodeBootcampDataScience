{
 "cells": [
  {
   "cell_type": "code",
   "execution_count": 94,
   "metadata": {},
   "outputs": [],
   "source": [
    "import numpy as np\n",
    "import pandas as pd\n",
    "import matplotlib.pyplot as plt\n",
    "\n",
    "\n",
    "df_te = pd.read_csv('test.csv')\n",
    "df_tr = pd.read_csv('train.csv')\n",
    "# df_ss = pd.read_csv('sampleSubmission.csv')\n",
    "df_tr['Gaji'] =df_tr['Gaji'].map({'<=7jt': 0, '>7jt': 1})"
   ]
  },
  {
   "cell_type": "code",
   "execution_count": 95,
   "metadata": {},
   "outputs": [],
   "source": [
    "x_tr = df_tr.drop('Gaji', axis=1) #feature\n",
    "y_tr = df_tr['Gaji'] #target/label"
   ]
  },
  {
   "cell_type": "code",
   "execution_count": 96,
   "metadata": {},
   "outputs": [],
   "source": [
    "# CONVERT STRING TO INT\n",
    "kp = {\n",
    "    'Wiraswasta': 0,\n",
    "    'Pekerja Bebas Bukan Perusahan': 1,\n",
    "    'Pemerintah Lokal': 2,\n",
    "    '?': 3,\n",
    "    'Pemerintah Negara': 4,\n",
    "    'Pekerja Bebas Perusahaan': 5,\n",
    "    'Pemerintah Provinsi': 6,\n",
    "    'Tanpa di Bayar': 7,\n",
    "    'Tidak Pernah Bekerja': 8\n",
    "}\n",
    "\n",
    "p = {\n",
    "    'SMA': 0,\n",
    "    'Pendidikan Tinggi': 1,\n",
    "    'Sarjana': 2,\n",
    "    'Master': 3,\n",
    "    'D4': 4,\n",
    "    '11th': 5,\n",
    "    'D3': 6,\n",
    "    '10th': 7,\n",
    "    '7th-8th': 8,\n",
    "    'Sekolah Professional': 7,\n",
    "    '9th': 7,\n",
    "    '12th': 7,\n",
    "    'Doktor': 7,\n",
    "    '5th-6th': 7,\n",
    "    '1st-4th': 7,\n",
    "    'SD': 7\n",
    "}\n",
    "\n",
    "sp = {\n",
    "    'Menikah': 0,\n",
    "    'Belum Pernah Menikah': 1,\n",
    "    'Cerai': 2,\n",
    "    'Berpisah': 3,\n",
    "    'Janda': 4,\n",
    "    'Menikah LDR': 5\n",
    "}\n",
    "\n",
    "pkr = {\n",
    "    'Spesialis': 0,\n",
    "    'Perbaikan Kerajinan': 1,\n",
    "    'Ekesekutif Managerial': 2,\n",
    "    'Pemuka Agama': 3,\n",
    "    'Sales': 4,\n",
    "    'Servis Lainnya': 5,\n",
    "    'Mesin Inspeksi': 6,\n",
    "    '?': 7,\n",
    "    'Supir': 8,\n",
    "    'Pembersih': 7,\n",
    "    'Petani': 7,\n",
    "    'Tech-support': 7,\n",
    "    'Penjaga': 7,\n",
    "    'Asisten Rumah Tangga': 7,\n",
    "    'Tentara': 7\n",
    "}\n",
    "\n",
    "jk = {\n",
    "    'Laki2': 0,\n",
    "    'Perempuan': 1\n",
    "}\n",
    "\n",
    "x_tr['Kelas Pekerja'] = x_tr['Kelas Pekerja'].replace(kp)\n",
    "x_tr['Pendidikan'] = x_tr['Pendidikan'].replace(p)\n",
    "x_tr['Status Perkawinan'] = x_tr['Status Perkawinan'].replace(sp)\n",
    "x_tr['Pekerjaan'] = x_tr['Pekerjaan'].replace(pkr)\n",
    "x_tr['Jenis Kelamin'] = x_tr['Jenis Kelamin'].replace(jk)\n",
    "\n",
    "df_te['Kelas Pekerja'] = df_te['Kelas Pekerja'].replace(kp)\n",
    "df_te['Pendidikan'] = df_te['Pendidikan'].replace(p)\n",
    "df_te['Status Perkawinan'] = df_te['Status Perkawinan'].replace(sp)\n",
    "df_te['Pekerjaan'] = df_te['Pekerjaan'].replace(pkr)\n",
    "df_te['Jenis Kelamin'] = df_te['Jenis Kelamin'].replace(jk)\n",
    "\n",
    "x_tr = x_tr.astype(int)\n",
    "df_te = df_te.astype(int)"
   ]
  },
  {
   "cell_type": "code",
   "execution_count": 98,
   "metadata": {},
   "outputs": [
    {
     "name": "stdout",
     "output_type": "stream",
     "text": [
      "<class 'pandas.core.frame.DataFrame'>\n",
      "RangeIndex: 35994 entries, 0 to 35993\n",
      "Data columns (total 12 columns):\n",
      "id                       35994 non-null int32\n",
      "Umur                     35994 non-null int32\n",
      "Kelas Pekerja            35994 non-null int32\n",
      "Berat Akhir              35994 non-null int32\n",
      "Pendidikan               35994 non-null int32\n",
      "Jmlh Tahun Pendidikan    35994 non-null int32\n",
      "Status Perkawinan        35994 non-null int32\n",
      "Pekerjaan                35994 non-null int32\n",
      "Jenis Kelamin            35994 non-null int32\n",
      "Keuntungan Kapital       35994 non-null int32\n",
      "Kerugian Capital         35994 non-null int32\n",
      "Jam per Minggu           35994 non-null int32\n",
      "dtypes: int32(12)\n",
      "memory usage: 1.6 MB\n"
     ]
    }
   ],
   "source": [
    "x_tr.info()"
   ]
  },
  {
   "cell_type": "code",
   "execution_count": 99,
   "metadata": {},
   "outputs": [
    {
     "name": "stdout",
     "output_type": "stream",
     "text": [
      "<class 'pandas.core.frame.DataFrame'>\n",
      "RangeIndex: 9599 entries, 0 to 9598\n",
      "Data columns (total 12 columns):\n",
      "id                       9599 non-null int32\n",
      "Umur                     9599 non-null int32\n",
      "Kelas Pekerja            9599 non-null int32\n",
      "Berat Akhir              9599 non-null int32\n",
      "Pendidikan               9599 non-null int32\n",
      "Jmlh Tahun Pendidikan    9599 non-null int32\n",
      "Status Perkawinan        9599 non-null int32\n",
      "Pekerjaan                9599 non-null int32\n",
      "Jenis Kelamin            9599 non-null int32\n",
      "Keuntungan Kapital       9599 non-null int32\n",
      "Kerugian Capital         9599 non-null int32\n",
      "Jam per Minggu           9599 non-null int32\n",
      "dtypes: int32(12)\n",
      "memory usage: 450.1 KB\n"
     ]
    }
   ],
   "source": [
    "df_te.info()"
   ]
  },
  {
   "cell_type": "code",
   "execution_count": 100,
   "metadata": {},
   "outputs": [],
   "source": [
    "from sklearn.model_selection import train_test_split\n",
    "x_train, x_test, y_train, y_test = train_test_split(x_tr, y_tr, test_size=0.25, random_state=21, stratify=y_tr)"
   ]
  },
  {
   "cell_type": "code",
   "execution_count": 101,
   "metadata": {},
   "outputs": [
    {
     "data": {
      "text/plain": [
       "LinearRegression(copy_X=True, fit_intercept=True, n_jobs=None, normalize=False)"
      ]
     },
     "execution_count": 101,
     "metadata": {},
     "output_type": "execute_result"
    }
   ],
   "source": [
    "from sklearn.linear_model import LinearRegression\n",
    "model_lr = LinearRegression(fit_intercept=True)\n",
    "model_lr.fit(x_train,y_train)"
   ]
  },
  {
   "cell_type": "code",
   "execution_count": 102,
   "metadata": {},
   "outputs": [
    {
     "data": {
      "text/plain": [
       "array([ 0.08895794,  0.19328134,  0.313823  , ...,  0.00383241,\n",
       "       -0.03599318,  0.30937723])"
      ]
     },
     "execution_count": 102,
     "metadata": {},
     "output_type": "execute_result"
    }
   ],
   "source": [
    "#prediksi with predict\n",
    "y_pred = model_lr.predict(df_te)\n",
    "y_pred"
   ]
  },
  {
   "cell_type": "code",
   "execution_count": 103,
   "metadata": {},
   "outputs": [
    {
     "data": {
      "text/html": [
       "<div>\n",
       "<style scoped>\n",
       "    .dataframe tbody tr th:only-of-type {\n",
       "        vertical-align: middle;\n",
       "    }\n",
       "\n",
       "    .dataframe tbody tr th {\n",
       "        vertical-align: top;\n",
       "    }\n",
       "\n",
       "    .dataframe thead th {\n",
       "        text-align: right;\n",
       "    }\n",
       "</style>\n",
       "<table border=\"1\" class=\"dataframe\">\n",
       "  <thead>\n",
       "    <tr style=\"text-align: right;\">\n",
       "      <th></th>\n",
       "      <th>id</th>\n",
       "      <th>Gaji</th>\n",
       "    </tr>\n",
       "  </thead>\n",
       "  <tbody>\n",
       "    <tr>\n",
       "      <td>0</td>\n",
       "      <td>35994</td>\n",
       "      <td>0.088958</td>\n",
       "    </tr>\n",
       "    <tr>\n",
       "      <td>1</td>\n",
       "      <td>35995</td>\n",
       "      <td>0.193281</td>\n",
       "    </tr>\n",
       "    <tr>\n",
       "      <td>2</td>\n",
       "      <td>35996</td>\n",
       "      <td>0.313823</td>\n",
       "    </tr>\n",
       "    <tr>\n",
       "      <td>3</td>\n",
       "      <td>35997</td>\n",
       "      <td>0.617537</td>\n",
       "    </tr>\n",
       "    <tr>\n",
       "      <td>4</td>\n",
       "      <td>35998</td>\n",
       "      <td>0.180420</td>\n",
       "    </tr>\n",
       "    <tr>\n",
       "      <td>...</td>\n",
       "      <td>...</td>\n",
       "      <td>...</td>\n",
       "    </tr>\n",
       "    <tr>\n",
       "      <td>9594</td>\n",
       "      <td>45588</td>\n",
       "      <td>0.247097</td>\n",
       "    </tr>\n",
       "    <tr>\n",
       "      <td>9595</td>\n",
       "      <td>45589</td>\n",
       "      <td>0.319068</td>\n",
       "    </tr>\n",
       "    <tr>\n",
       "      <td>9596</td>\n",
       "      <td>45590</td>\n",
       "      <td>0.003832</td>\n",
       "    </tr>\n",
       "    <tr>\n",
       "      <td>9597</td>\n",
       "      <td>45591</td>\n",
       "      <td>-0.035993</td>\n",
       "    </tr>\n",
       "    <tr>\n",
       "      <td>9598</td>\n",
       "      <td>45592</td>\n",
       "      <td>0.309377</td>\n",
       "    </tr>\n",
       "  </tbody>\n",
       "</table>\n",
       "<p>9599 rows × 2 columns</p>\n",
       "</div>"
      ],
      "text/plain": [
       "         id      Gaji\n",
       "0     35994  0.088958\n",
       "1     35995  0.193281\n",
       "2     35996  0.313823\n",
       "3     35997  0.617537\n",
       "4     35998  0.180420\n",
       "...     ...       ...\n",
       "9594  45588  0.247097\n",
       "9595  45589  0.319068\n",
       "9596  45590  0.003832\n",
       "9597  45591 -0.035993\n",
       "9598  45592  0.309377\n",
       "\n",
       "[9599 rows x 2 columns]"
      ]
     },
     "execution_count": 103,
     "metadata": {},
     "output_type": "execute_result"
    }
   ],
   "source": [
    "hasil = pd.DataFrame( { 'id': pd.Series(df_te['id']), 'Gaji': pd.Series(y_pred) } )\n",
    "hasil\n",
    "\n"
   ]
  },
  {
   "cell_type": "code",
   "execution_count": 54,
   "metadata": {},
   "outputs": [],
   "source": [
    "# hasil.to_csv('Submission.csv', index=False)"
   ]
  },
  {
   "cell_type": "code",
   "execution_count": null,
   "metadata": {},
   "outputs": [],
   "source": []
  }
 ],
 "metadata": {
  "kernelspec": {
   "display_name": "Python 3",
   "language": "python",
   "name": "python3"
  },
  "language_info": {
   "codemirror_mode": {
    "name": "ipython",
    "version": 3
   },
   "file_extension": ".py",
   "mimetype": "text/x-python",
   "name": "python",
   "nbconvert_exporter": "python",
   "pygments_lexer": "ipython3",
   "version": "3.7.4"
  }
 },
 "nbformat": 4,
 "nbformat_minor": 4
}
