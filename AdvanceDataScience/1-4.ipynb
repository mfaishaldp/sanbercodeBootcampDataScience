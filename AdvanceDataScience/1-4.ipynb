{
 "cells": [
  {
   "cell_type": "code",
   "execution_count": 4,
   "metadata": {},
   "outputs": [
    {
     "name": "stdout",
     "output_type": "stream",
     "text": [
      "[['#', 'Name', 'Type', 'Total', 'HP', 'Attack', 'Defense', 'Sp. Atk', 'Sp. Def', 'Speed'], ['001', 'Bulbasaur', 'Grass Poison', '318', '45', '49', '49', '65', '65', '45'], ['002', 'Ivysaur', 'Grass Poison', '405', '60', '62', '63', '80', '80', '60'], ['003', 'Venusaur', 'Grass Poison', '525', '80', '82', '83', '100', '100', '80'], ['003', 'Venusaur Mega Venusaur', 'Grass Poison', '625', '80', '100', '123', '122', '120', '80'], ['004', 'Charmander', 'Fire', '309', '39', '52', '43', '60', '50', '65'], ['005', 'Charmeleon', 'Fire', '405', '58', '64', '58', '80', '65', '80'], ['006', 'Charizard', 'Fire Flying', '534', '78', '84', '78', '109', '85', '100'], ['006', 'Charizard Mega Charizard X', 'Fire Dragon', '634', '78', '130', '111', '130', '85', '100'], ['006', 'Charizard Mega Charizard Y', 'Fire Flying', '634', '78', '104', '78', '159', '115', '100'], ['007', 'Squirtle', 'Water', '314', '44', '48', '65', '50', '64', '43'], ['008', 'Wartortle', 'Water', '405', '59', '63', '80', '65', '80', '58'], ['009', 'Blastoise', 'Water', '530', '79', '83', '100', '85', '105', '78'], ['009', 'Blastoise Mega Blastoise', 'Water', '630', '79', '103', '120', '135', '115', '78'], ['010', 'Caterpie', 'Bug', '195', '45', '30', '35', '20', '20', '45'], ['011', 'Metapod', 'Bug', '205', '50', '20', '55', '25', '25', '30'], ['012', 'Butterfree', 'Bug Flying', '395', '60', '45', '50', '90', '80', '70'], ['013', 'Weedle', 'Bug Poison', '195', '40', '35', '30', '20', '20', '50'], ['014', 'Kakuna', 'Bug Poison', '205', '45', '25', '50', '25', '25', '35'], ['015', 'Beedrill', 'Bug Poison', '395', '65', '90', '40', '45', '80', '75'], ['015', 'Beedrill Mega Beedrill', 'Bug Poison', '495', '65', '150', '40', '15', '80', '145'], ['016', 'Pidgey', 'Normal Flying', '251', '40', '45', '40', '35', '35', '56'], ['017', 'Pidgeotto', 'Normal Flying', '349', '63', '60', '55', '50', '50', '71'], ['018', 'Pidgeot', 'Normal Flying', '479', '83', '80', '75', '70', '70', '101'], ['018', 'Pidgeot Mega Pidgeot', 'Normal Flying', '579', '83', '80', '80', '135', '80', '121'], ['019', 'Rattata', 'Normal', '253', '30', '56', '35', '25', '35', '72'], ['019', 'Rattata Alolan Rattata', 'Dark Normal', '253', '30', '56', '35', '25', '35', '72'], ['020', 'Raticate', 'Normal', '413', '55', '81', '60', '50', '70', '97'], ['020', 'Raticate Alolan Raticate', 'Dark Normal', '413', '75', '71', '70', '40', '80', '77']]\n"
     ]
    }
   ],
   "source": [
    "from urllib.request import urlopen, Request\n",
    "from bs4 import BeautifulSoup\n",
    "\n",
    "alamat = \"https://pokemondb.net/pokedex/all\"\n",
    "safeAdd = Request(alamat, headers={'User-Agent': 'Mozilla/5.0'})\n",
    "html = urlopen(safeAdd)\n",
    "data = BeautifulSoup(html, 'html.parser')\n",
    "\n",
    "# print(data)\n",
    "\n",
    "# judul = data.findAll(\"h2\")\n",
    "\n",
    "table = data.find(\"table\",{\"class\" : \"data-table block-wide\"})\n",
    "rows = table.findAll(\"tr\",limit=29)\n",
    "\n",
    "hasil = []\n",
    "for row in rows:\n",
    "    info = []\n",
    "    for cell in row.findAll([\"td\",\"th\"]):\n",
    "        info.append(cell.get_text().strip())\n",
    "    hasil.append(info)\n",
    "\n",
    "\n",
    "\n",
    "print(hasil)\n",
    "\n"
   ]
  },
  {
   "cell_type": "code",
   "execution_count": 5,
   "metadata": {},
   "outputs": [],
   "source": [
    "import csv\n",
    "\n",
    "csv_data = open(\"D:/TELKOM UNIVERSITY/Course IT/SANBERCODE/DATA SCIENCE LANJUTAN/WEEK 1/data.csv\", 'w+',newline='')\n",
    "writer = csv.writer(csv_data)\n",
    "\n",
    "# item_data = []\n",
    "for item in hasil:\n",
    "    item_data = []\n",
    "    item_data.append(item)\n",
    "    writer.writerow(item_data)"
   ]
  },
  {
   "cell_type": "code",
   "execution_count": null,
   "metadata": {},
   "outputs": [],
   "source": []
  }
 ],
 "metadata": {
  "kernelspec": {
   "display_name": "Python 3",
   "language": "python",
   "name": "python3"
  },
  "language_info": {
   "codemirror_mode": {
    "name": "ipython",
    "version": 3
   },
   "file_extension": ".py",
   "mimetype": "text/x-python",
   "name": "python",
   "nbconvert_exporter": "python",
   "pygments_lexer": "ipython3",
   "version": "3.7.4"
  }
 },
 "nbformat": 4,
 "nbformat_minor": 4
}
