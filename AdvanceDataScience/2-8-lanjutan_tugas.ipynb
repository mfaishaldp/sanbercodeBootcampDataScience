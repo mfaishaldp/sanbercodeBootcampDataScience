{
 "cells": [
  {
   "cell_type": "code",
   "execution_count": 1,
   "metadata": {},
   "outputs": [],
   "source": [
    "import tweepy\n",
    "import re\n",
    "import pandas as pd\n",
    "import numpy as np\n",
    "import matplotlib.pyplot as plt\n",
    "\n",
    "consumer_key = \"E94DFtes8j5myDibhj4sfs0NA\"\n",
    "consumer_secret = \"f02atPbdvNHpaOyo5CzfKKDQidqY3JPdSDxTVEuL9Oi220RaZh\"\n",
    "access_token = \"358155084-9hyegtGt2qSXTw3OYa5vOdR27Zx9BECK40Z1QWay\"\n",
    "access_token_secret = \"qh8kdCttP4ciVAdYMU70NQmw9oFzapA6f5U3OCtgTg9W3\"\n",
    "\n",
    "auth = tweepy.OAuthHandler(consumer_key,consumer_secret)\n",
    "auth.set_access_token(access_token,access_token_secret)\n",
    "# api = tweepy.API(auth)\n",
    "api = tweepy.API(auth, wait_on_rate_limit=True)"
   ]
  },
  {
   "cell_type": "code",
   "execution_count": 2,
   "metadata": {},
   "outputs": [],
   "source": [
    "def cekMasyarakat(kalimat):\n",
    "    search_words = kalimat\n",
    "    date_since = \"2020-07-27\"\n",
    "    new_search = search_words + \" -filter:retweets\"\n",
    "\n",
    "    tweets = tweepy.Cursor(api.search,\n",
    "            q=new_search,\n",
    "            lang=\"id\",\n",
    "            since=date_since).items(1000)\n",
    "    \n",
    "    items = []\n",
    "    for tweet in tweets:\n",
    "        item = []\n",
    "        item.append (' '.join(re.sub(\"(@[A-Za-z0-9]+)|([^0-9A-Za-z \\t])|(\\w+:\\/\\/\\S+)\", \" \", tweet.text).split()))\n",
    "        items.append(item)\n",
    "    hasil = pd.DataFrame(data=items, columns=['tweet'])\n",
    "    \n",
    "    pos_list= open(\"D:/TELKOM UNIVERSITY/Course IT/SANBERCODE/DATA SCIENCE LANJUTAN/WEEK 2/kata_positif.txt\",\"r\")\n",
    "    pos_kata = pos_list.readlines()\n",
    "    neg_list= open(\"D:/TELKOM UNIVERSITY/Course IT/SANBERCODE/DATA SCIENCE LANJUTAN/WEEK 2/kata_negatif.txt\",\"r\")\n",
    "    neg_kata = neg_list.readlines()\n",
    "\n",
    "    \n",
    "    S = []\n",
    "    for item in items:\n",
    "            count_p = 0\n",
    "            count_n = 0\n",
    "            for kata_pos in pos_kata:\n",
    "                if kata_pos.strip() in item[0]:\n",
    "                    count_p +=1\n",
    "            for kata_neg in neg_kata:\n",
    "                if kata_neg.strip() in item[0]:\n",
    "                    count_n +=1\n",
    "            S.append(count_p - count_n)\n",
    "\n",
    "    hasil[\"value\"] = S\n",
    "    print (\"Nilai rata-rata: \"+str(np.mean(hasil[\"value\"])))\n",
    "    print (\"Standar deviasi: \"+str(np.std(hasil[\"value\"])))\n",
    "    \n",
    "    labels, counts = np.unique(hasil[\"value\"], return_counts=True)\n",
    "    plt.bar(labels, counts, align='center')\n",
    "    plt.gca().set_xticks(labels)\n",
    "    plt.show()"
   ]
  },
  {
   "cell_type": "code",
   "execution_count": 3,
   "metadata": {},
   "outputs": [
    {
     "name": "stdout",
     "output_type": "stream",
     "text": [
      "Nilai rata-rata: -0.486\n",
      "Standar deviasi: 1.5804442413448214\n"
     ]
    },
    {
     "data": {
      "image/png": "[encoded data removed]",
      "text/plain": [
       "<Figure size 432x288 with 1 Axes>"
      ]
     },
     "metadata": {
      "needs_background": "light"
     },
     "output_type": "display_data"
    }
   ],
   "source": [
    "no1 = cekMasyarakat(\"jouska\")\n",
    "no1"
   ]
  },
  {
   "cell_type": "code",
   "execution_count": 4,
   "metadata": {},
   "outputs": [
    {
     "name": "stdout",
     "output_type": "stream",
     "text": [
      "Nilai rata-rata: -0.7458333333333333\n",
      "Standar deviasi: 1.8769388124165283\n"
     ]
    },
    {
     "data": {
      "image/png": "[encoded data removed]",
      "text/plain": [
       "<Figure size 432x288 with 1 Axes>"
      ]
     },
     "metadata": {
      "needs_background": "light"
     },
     "output_type": "display_data"
    }
   ],
   "source": [
    "no2 = cekMasyarakat(\"Anies Baswedan OR Gubernur Jakarta\")\n",
    "no2"
   ]
  },
  {
   "cell_type": "code",
   "execution_count": 5,
   "metadata": {},
   "outputs": [
    {
     "name": "stdout",
     "output_type": "stream",
     "text": [
      "Nilai rata-rata: 0.5789473684210527\n",
      "Standar deviasi: 1.4979209969218639\n"
     ]
    },
    {
     "data": {
      "image/png": "[encoded data removed]",
      "text/plain": [
       "<Figure size 432x288 with 1 Axes>"
      ]
     },
     "metadata": {
      "needs_background": "light"
     },
     "output_type": "display_data"
    }
   ],
   "source": [
    "no3 = cekMasyarakat(\"Terawan Agus Putranto OR Menteri Kesehatan\")\n",
    "no3"
   ]
  },
  {
   "cell_type": "code",
   "execution_count": null,
   "metadata": {},
   "outputs": [],
   "source": []
  }
 ],
 "metadata": {
  "kernelspec": {
   "display_name": "Python 3",
   "language": "python",
   "name": "python3"
  },
  "language_info": {
   "codemirror_mode": {
    "name": "ipython",
    "version": 3
   },
   "file_extension": ".py",
   "mimetype": "text/x-python",
   "name": "python",
   "nbconvert_exporter": "python",
   "pygments_lexer": "ipython3",
   "version": "3.7.4"
  }
 },
 "nbformat": 4,
 "nbformat_minor": 4
}
