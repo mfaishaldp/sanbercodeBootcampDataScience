{
 "cells": [
  {
   "cell_type": "markdown",
   "metadata": {
    "colab_type": "text",
    "id": "47NOwo3UNcRl"
   },
   "source": [
    "<h1>Soal 1: Pemahaman Machine Learning</h1>\n",
    "\n",
    "Jawab/Kerjakan pertanyaan/perintah di bawah ini dengan bahasa kalian sendiri:\n",
    "\n",
    "- Apa itu machine learning?\n",
    "adalah cabang aplikasi dari artificial intelligence (kecerdasan buatan) yang fokus pada pengembangan sebuah sistem yang mampu belajar 'sendiri' tanpa harus berulang kali di program oleh manusia\n",
    "\n",
    "- Apa itu data feature dan data target?\n",
    "1. feature merupakan atribut2 yang akan membentuk atau memiliki output pada data target / bisa dimaksud label\n",
    "2. data target / label merupakan patokan untuk feature yang akan beroutputkan data target.\n",
    "\n",
    "- Apa Perbedaan Supervised Learning dan Unsupervised Learning?\n",
    "Supervised Learning dalam bahasa indonesia adalah pembelajaran yang ada supervisornya. Maksud disini ada supervisornya adalah label di tiap data nya.\n",
    "\n",
    "Unsupervised learning tidak menggunakan label dalam memprediksi target feautures / variable. Melainkan menggunakan ke samaan dari attribut attribut yang dimiliki.\n",
    "\n",
    "- Apa Jenis2 yang ada di dalam Supervised Learning? Jelaskan Perbedaannya!\n",
    "1.Regresi Linier Berganda\n",
    "2.Analisis Deret Waktu\n",
    "3.Decision Tree dan Random Forest\n",
    "4.Naive Bayes Classifier\n",
    "5.Nearest Neighbor Classifier\n",
    "6.Artificial Neural Network\n",
    "7.Support Vector Machine\n",
    "\n",
    "- Apa perbedaan Hyperparameter dan Parameter?\n",
    "1. hyper parameter\n",
    "didefinisikan di awal\n",
    "tidak ada sangkut pautnya dengan model\n",
    "2. parameter\n",
    "di definiskan di akhir\n",
    "terdapat sangkut pautnya dengan model\n",
    "\n",
    "- Sebutkan Langkah-langkah dalam mengaplikasikan algoritma apapun dalam machine learning!\n",
    "\n",
    "1. pilih model atau alogritma yang akan digunakan\n",
    "2. pilih hyper parameter ketika membuat objek model\n",
    "3. pisahkan antara data feature dan data target -> sklearn menerima input berupa data matriks bukan vektor\n",
    "4. perintahkan model untuk mempelajari data dengan menggunakan method .fit()\n",
    "5. aplikasikan model kedalam test data dengan menggunakan method .predict untuk supervised atau .transform() dan predict() untuk unsupervised learning\n"
   ]
  },
  {
   "cell_type": "markdown",
   "metadata": {
    "colab_type": "text",
    "id": "58I1LJFoNcRv"
   },
   "source": [
    "---\n"
   ]
  },
  {
   "cell_type": "markdown",
   "metadata": {
    "colab_type": "text",
    "id": "jI50HJDgNcRz"
   },
   "source": [
    "<h1>Soal 2: Pemahaman Machine Learning</h1>\n",
    "\n",
    "Pelajarilah secara garis besar suatu model/algoritma machine learning, kemudian aplikasikan untuk membuat model bagi data (variable x, y) di bawah ini. Kemudian buatlah prediksi terhadap data training dan data baru di interval 20-30.\n",
    "\n",
    "- Plot data asli, data hasil prediksi terhadap data training, data hasil prediksi terhadap data baru\n",
    "- Tunjukan beberapa parameter yang dimiliki model yang telah kalian buat"
   ]
  },
  {
   "cell_type": "code",
   "execution_count": 1,
   "metadata": {
    "colab": {},
    "colab_type": "code",
    "id": "QotZc3UbNcR9",
    "outputId": "eac5b4f0-6932-446a-ebb2-5eaefadd583b"
   },
   "outputs": [
    {
     "data": {
      "text/plain": [
       "<Figure size 1200x600 with 1 Axes>"
      ]
     },
     "metadata": {},
     "output_type": "display_data"
    }
   ],
   "source": [
    "import matplotlib.pyplot as plt\n",
    "import numpy as np\n",
    "\n",
    "rng = np.random.RandomState(42)\n",
    "x = 20 * rng.rand(50)\n",
    "y = x**2 + 2 * x + - 1 + rng.randn(50)\n",
    "\n",
    "# data yang akan di prediksi\n",
    "x_new = np.arange(20, 30, 0.5)\n",
    "\n",
    "fig, ax = plt.subplots(figsize=(12, 6))\n",
    "ax.scatter(x, y)\n",
    "ax.set_xlabel('X-Value')\n",
    "ax.set_ylabel('Y-Value')\n",
    "plt.show()"
   ]
  },
  {
   "cell_type": "markdown",
   "metadata": {
    "colab_type": "text",
    "id": "3wrMfFusNcS6"
   },
   "source": [
    "Contoh jawaban hasil pembuatan model dengan algoritma DecisionTreeRegressor (jawaban tidak harus sama):\n",
    "\n",
    "![alt text](https://drive.google.com/uc?id=1R0mGnMp3DqEsHDiH2_IL4XSS2Roew0wo)"
   ]
  },
  {
   "cell_type": "markdown",
   "metadata": {
    "colab_type": "text",
    "id": "4Vs7RhxRNcS_"
   },
   "source": [
    "Contoh jawaban parameters (tidak harus sama):\n",
    "\n",
    "- Feature Importance : array([1.])\n",
    "- n features : 1\n",
    "  \n",
    "Tree Graph :\n",
    "\n",
    "![alt text](https://drive.google.com/uc?id=1GM0ba_qjm_e5oLhE9v6pVt2uRBBW6FH9)"
   ]
  },
  {
   "cell_type": "code",
   "execution_count": 2,
   "metadata": {
    "colab": {},
    "colab_type": "code",
    "id": "AQKlYTdSbL9o"
   },
   "outputs": [],
   "source": [
    "# Code here\n",
    "\n",
    "from sklearn.linear_model import LinearRegression\n",
    "model_lr = LinearRegression(fit_intercept=True)"
   ]
  },
  {
   "cell_type": "code",
   "execution_count": 3,
   "metadata": {},
   "outputs": [],
   "source": [
    "# ubah x menjadi matriks, karena sklearn butuh data matriks\n",
    "x_matriks = x[:, np.newaxis]"
   ]
  },
  {
   "cell_type": "code",
   "execution_count": 4,
   "metadata": {},
   "outputs": [
    {
     "data": {
      "text/plain": [
       "LinearRegression(copy_X=True, fit_intercept=True, n_jobs=None, normalize=False)"
      ]
     },
     "execution_count": 4,
     "metadata": {},
     "output_type": "execute_result"
    }
   ],
   "source": [
    "# perintahkan model untuk mempelajari data dengan menggunakan method .fit()\n",
    "# model_lr.fit(input_data, output_data)\n",
    "model_lr.fit(x_matriks,y)"
   ]
  },
  {
   "cell_type": "code",
   "execution_count": 5,
   "metadata": {},
   "outputs": [
    {
     "data": {
      "text/plain": [
       "array([367.2976605 , 378.04576111, 388.79386171, 399.54196232,\n",
       "       410.29006292, 421.03816352, 431.78626413, 442.53436473,\n",
       "       453.28246534, 464.03056594, 474.77866655, 485.52676715,\n",
       "       496.27486775, 507.02296836, 517.77106896, 528.51916957,\n",
       "       539.26727017, 550.01537077, 560.76347138, 571.51157198])"
      ]
     },
     "execution_count": 5,
     "metadata": {},
     "output_type": "execute_result"
    }
   ],
   "source": [
    "#menyiapkan data baru yg akan di prediksi\n",
    "#aplikasikan model ke dalam test data dengan menggunakan model .predict() untuk supervised learning atau .transform() dan .predict() untuk unsupervised learning\n",
    "x_data_baru_matriks = x_new[:, np.newaxis]\n",
    "y_test_data_baru = model_lr.predict(x_data_baru_matriks)\n",
    "\n",
    "y_test_data_baru"
   ]
  },
  {
   "cell_type": "code",
   "execution_count": 6,
   "metadata": {},
   "outputs": [],
   "source": [
    "y_train = model_lr.predict(x_matriks)"
   ]
  },
  {
   "cell_type": "code",
   "execution_count": 7,
   "metadata": {},
   "outputs": [
    {
     "data": {
      "text/plain": [
       "<matplotlib.legend.Legend at 0x24a9c6351c8>"
      ]
     },
     "execution_count": 7,
     "metadata": {},
     "output_type": "execute_result"
    },
    {
     "data": {
      "image/png": "[encoded data removed]",
      "text/plain": [
       "<Figure size 432x288 with 1 Axes>"
      ]
     },
     "metadata": {
      "needs_background": "light"
     },
     "output_type": "display_data"
    }
   ],
   "source": [
    "plt.scatter(x,y,color='r', label='data awal')\n",
    "plt.scatter(x, y_train,label = 'model training')\n",
    "plt.plot(x_data_baru_matriks,y_test_data_baru, label = 'test result/hasil prediksi')\n",
    "plt.legend()"
   ]
  },
  {
   "cell_type": "code",
   "execution_count": null,
   "metadata": {},
   "outputs": [],
   "source": []
  }
 ],
 "metadata": {
  "colab": {
   "collapsed_sections": [],
   "name": "Tugas Hari 1 Pekan 4.ipynb",
   "provenance": []
  },
  "kernelspec": {
   "display_name": "Python 3",
   "language": "python",
   "name": "python3"
  },
  "language_info": {
   "codemirror_mode": {
    "name": "ipython",
    "version": 3
   },
   "file_extension": ".py",
   "mimetype": "text/x-python",
   "name": "python",
   "nbconvert_exporter": "python",
   "pygments_lexer": "ipython3",
   "version": "3.7.4"
  }
 },
 "nbformat": 4,
 "nbformat_minor": 4
}
